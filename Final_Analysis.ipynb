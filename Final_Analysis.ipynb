{
 "cells": [
  {
   "cell_type": "code",
   "execution_count": 2,
   "id": "75126c53",
   "metadata": {},
   "outputs": [],
   "source": [
    "import pandas as pd\n",
    "import numpy as np\n",
    "\n",
    "import matplotlib.pyplot as plt\n",
    "from matplotlib.pyplot import figure\n",
    "import seaborn as sns\n",
    "\n",
    "from sklearn.metrics import confusion_matrix, ConfusionMatrixDisplay\n",
    "from sklearn.metrics import accuracy_score\n",
    "from sklearn.metrics import classification_report\n",
    "from sklearn.model_selection import train_test_split\n",
    "from sklearn import metrics\n",
    "from sklearn.model_selection import cross_val_score\n",
    "from sklearn.model_selection import RepeatedStratifiedKFold\n",
    "from sklearn.model_selection import StratifiedKFold\n",
    "from sklearn import preprocessing\n",
    "\n",
    "from sklearn.model_selection import cross_val_predict\n",
    "from sklearn.model_selection import GridSearchCV\n",
    "import time\n",
    "\n",
    "from sklearn.tree import DecisionTreeClassifier\n",
    "from sklearn.linear_model import LogisticRegression\n",
    "from sklearn import svm\n",
    "from sklearn.ensemble import RandomForestClassifier\n",
    "from sklearn.multiclass import OneVsRestClassifier\n",
    "\n",
    "from imblearn.over_sampling import SMOTE\n",
    "import shap"
   ]
  },
  {
   "cell_type": "code",
   "execution_count": 3,
   "id": "19300325",
   "metadata": {},
   "outputs": [],
   "source": [
    "df_ddos = pd.read_csv('ddos_traffic_model_ready.csv')"
   ]
  },
  {
   "cell_type": "code",
   "execution_count": 4,
   "id": "e3ddb0de",
   "metadata": {},
   "outputs": [],
   "source": [
    "df_normal = pd.read_csv('normal_traffic_model_ready.csv')"
   ]
  },
  {
   "cell_type": "code",
   "execution_count": 5,
   "id": "85739d87",
   "metadata": {},
   "outputs": [],
   "source": [
    "df_final = pd.concat([df_ddos, df_normal])\n",
    "df_final = df_final.sample(frac=1)"
   ]
  },
  {
   "cell_type": "code",
   "execution_count": 6,
   "id": "fd8f7864",
   "metadata": {},
   "outputs": [],
   "source": [
    "CATEGORY_MAP = {\"Benign Traffic\":0, 'Slow HTTP GET':1, 'Slow Read':2, 'Slow Post':3, 'GoldenEye':4, 'Hulk':5}"
   ]
  },
  {
   "cell_type": "markdown",
   "id": "3b264abd",
   "metadata": {},
   "source": [
    "## Columns Selection"
   ]
  },
  {
   "cell_type": "code",
   "execution_count": 7,
   "id": "5201969a",
   "metadata": {},
   "outputs": [],
   "source": [
    "X = df_final.drop(labels=['Address-A', 'Port-A', 'Address-B', 'Port-B', 'StreamID', \n",
    "                         'PerctageFiltered', 'CATEGORY', 'Relative_Start', \n",
    "                         'TotalPackets', 'Syn', 'Acknowledgment', 'Fin', 'Reset', 'Length', 'TCP Segment Len', 'Push',\n",
    "                         'Bytes In Flight', 'Duration', 'Header Length'], axis=1)\n",
    "\n",
    "y = df_final['CATEGORY']\n"
   ]
  },
  {
   "cell_type": "code",
   "execution_count": 240,
   "id": "9a8825d9",
   "metadata": {},
   "outputs": [],
   "source": [
    "def create_features_target():\n",
    "    df_ddos = pd.read_csv('ddos_traffic_model_ready.csv')\n",
    "    df_normal = pd.read_csv('normal_traffic_model_ready.csv')\n",
    "    \n",
    "    df_final = pd.concat([df_ddos, df_normal])\n",
    "    df_final = df_final.sample(frac=1, random_state=42)\n",
    "    \n",
    "    X = df_final.drop(labels=['Address-A', 'Port-A', 'Address-B', 'Port-B', 'StreamID', \n",
    "                         'PerctageFiltered', 'CATEGORY', 'Relative_Start', \n",
    "                         'TotalPackets', 'Syn', 'Acknowledgment', 'Fin', 'Reset', 'Length', 'TCP Segment Len', 'Push',\n",
    "                         'Bytes In Flight', 'Duration', 'Header Length'], axis=1)\n",
    "\n",
    "    y = df_final['CATEGORY']\n",
    "    y = y.map(CATEGORY_MAP)\n",
    "    \n",
    "    return X, y"
   ]
  },
  {
   "cell_type": "markdown",
   "id": "6360e86f",
   "metadata": {},
   "source": [
    "## Target Column oversample"
   ]
  },
  {
   "cell_type": "code",
   "execution_count": 241,
   "id": "87f9cdce",
   "metadata": {},
   "outputs": [],
   "source": [
    "def perform_over_sampling(X, y):\n",
    "    k = 3\n",
    "    strategy = {2:4000}\n",
    "    over = SMOTE(sampling_strategy=strategy, k_neighbors=k, random_state=42)\n",
    "    X, y = over.fit_resample(X, y)\n",
    "    return X, y"
   ]
  },
  {
   "cell_type": "code",
   "execution_count": 242,
   "id": "3e5bf3a0",
   "metadata": {},
   "outputs": [
    {
     "data": {
      "text/plain": [
       "Benign Traffic    22312\n",
       "Slow HTTP GET     10559\n",
       "Hulk               9505\n",
       "Slow Post          6066\n",
       "GoldenEye          4278\n",
       "Slow Read          1049\n",
       "Name: CATEGORY, dtype: int64"
      ]
     },
     "execution_count": 242,
     "metadata": {},
     "output_type": "execute_result"
    }
   ],
   "source": [
    "df_final.CATEGORY.value_counts()"
   ]
  },
  {
   "cell_type": "markdown",
   "id": "52bf684b",
   "metadata": {},
   "source": [
    "### Logistic Regression CV"
   ]
  },
  {
   "cell_type": "code",
   "execution_count": 243,
   "id": "e90ab7c7",
   "metadata": {},
   "outputs": [],
   "source": [
    "cv = RepeatedStratifiedKFold(n_splits=5, n_repeats=3, random_state=42)\n",
    "kf = StratifiedKFold(n_splits=5, shuffle=True, random_state=42)"
   ]
  },
  {
   "cell_type": "code",
   "execution_count": 312,
   "id": "69baa9b7",
   "metadata": {},
   "outputs": [],
   "source": [
    "X_features, y_target = create_features_target()\n",
    "X_oversample, y_oversample = perform_over_sampling(X_features, y_target)"
   ]
  },
  {
   "cell_type": "code",
   "execution_count": 14,
   "id": "9087445f",
   "metadata": {},
   "outputs": [
    {
     "name": "stdout",
     "output_type": "stream",
     "text": [
      "Mean acc with std : 0.5893 + 0.0019\n",
      "              precision    recall  f1-score   support\n",
      "\n",
      "           0       0.82      1.00      0.90      4465\n",
      "           1       0.36      0.88      0.51      2153\n",
      "           2       0.00      0.00      0.00       208\n",
      "           3       0.00      0.00      0.00      1208\n",
      "           4       0.00      0.00      0.00       884\n",
      "           5       0.00      0.00      0.00      1836\n",
      "\n",
      "    accuracy                           0.59     10754\n",
      "   macro avg       0.20      0.31      0.23     10754\n",
      "weighted avg       0.41      0.59      0.48     10754\n",
      "\n"
     ]
    },
    {
     "name": "stderr",
     "output_type": "stream",
     "text": [
      "Precision and F-score are ill-defined and being set to 0.0 in labels with no predicted samples. Use `zero_division` parameter to control this behavior.\n",
      "Precision and F-score are ill-defined and being set to 0.0 in labels with no predicted samples. Use `zero_division` parameter to control this behavior.\n",
      "Precision and F-score are ill-defined and being set to 0.0 in labels with no predicted samples. Use `zero_division` parameter to control this behavior.\n"
     ]
    }
   ],
   "source": [
    "def logistic_regression(X, y):\n",
    "    X_scaled = preprocessing.StandardScaler().fit(X).transform(X)\n",
    "    #X_train, X_test, y_train, y_test = train_test_split(X_scaled, y, random_state=42, test_size=0.2, stratify=y)\n",
    "    logreg = LogisticRegression(C=0.03, max_iter=1000)\n",
    "    return logreg, X_scaled, y\n",
    "\n",
    "# X_features, y_target = create_features_target()\n",
    "# X_oversample, y_oversample = perform_over_sampling(X_features, y_target)\n",
    "logreg, X_scaled, y_scaled = logistic_regression(X_oversample, y_oversample)\n",
    "\n",
    "# Acc\n",
    "scores1 = cross_val_score(logreg, X_scaled, y_scaled, scoring='accuracy', cv=cv, n_jobs=-1)\n",
    "print(f\"Mean acc with std : {np.mean(scores1):.4f} + {np.std(scores1):.4f}\")\n",
    "\n",
    "# Classification report\n",
    "X_train, X_test, y_train, y_test = train_test_split(X_features, y_target, random_state=42, test_size=0.2, stratify=y)\n",
    "logreg.fit(X_train, y_train)\n",
    "y_pred_logreg = logreg.predict(X_test)\n",
    "print(classification_report(y_test, y_pred_logreg))"
   ]
  },
  {
   "cell_type": "markdown",
   "id": "4c0a57e3",
   "metadata": {},
   "source": [
    "### SVC"
   ]
  },
  {
   "cell_type": "code",
   "execution_count": 180,
   "id": "8d560376",
   "metadata": {},
   "outputs": [
    {
     "name": "stdout",
     "output_type": "stream",
     "text": [
      "Mean acc with std : 0.6366 + 0.0031\n"
     ]
    }
   ],
   "source": [
    "def svc_model(X, y):\n",
    "    X_scaled = preprocessing.StandardScaler().fit(X).transform(X)\n",
    "    #X_train, X_test, y_train, y_test = train_test_split(X_scaled, y, random_state=42, test_size=0.2, stratify=y)\n",
    "    svm_model = svm.SVC(random_state=42)\n",
    "    return svm_model, X_scaled, y\n",
    "\n",
    "X_features, y_target = create_features_target()\n",
    "X_oversample, y_oversample = perform_over_sampling(X_features, y_target)\n",
    "svm_model, X_scaled, y_scaled = svc_model(X_oversample, y_oversample)\n",
    "\n",
    "# Acc\n",
    "scores1 = cross_val_score(svm_model, X_scaled, y_scaled, scoring='accuracy', cv=5, n_jobs=-1)\n",
    "print(f\"Mean acc with std : {np.mean(scores1):.4f} + {np.std(scores1):.4f}\")\n",
    "\n",
    "# # ROC\n",
    "# scores2 = cross_val_score(svm_model, X_scaled, y_scaled, scoring='roc_auc', cv=5, n_jobs=-1)\n",
    "# print(f\"Mean roc_auc with std : {np.mean(scores2):.4f} + {np.std(scores2):.4f}\")\n",
    "\n",
    "# # recall\n",
    "# scores3 = cross_val_score(svm_model, X_scaled, y_scaled, scoring='recall', cv=5, n_jobs=-1)\n",
    "# print(f\"Mean recall with std : {np.mean(scores3):.4f} + {np.std(scores3):.4f}\")\n",
    "\n",
    "# Classification report\n",
    "# X_train, X_test, y_train, y_test = train_test_split(X_features, y_target, random_state=42, test_size=0.2, stratify=y)\n",
    "# svm_model.fit(X_train, y_train)\n",
    "# y_pred_logreg = svm_model.predict(X_test)\n",
    "# print(classification_report(y_test, y_pred_logreg))"
   ]
  },
  {
   "cell_type": "markdown",
   "id": "fa3d504f",
   "metadata": {},
   "source": [
    "### Random Forest with GridSearchCV"
   ]
  },
  {
   "cell_type": "code",
   "execution_count": 77,
   "id": "70e0e8aa",
   "metadata": {},
   "outputs": [],
   "source": [
    "rf_cv = RandomForestClassifier()\n",
    "rf_search = GridSearchCV(rf_cv, param_grid={'n_estimators':[200, 300, 500],\n",
    "                                            'min_samples_split':[2, 3],\n",
    "                                            'max_depth' : [None, 2],\n",
    "                                            'oob_score':[True, False],\n",
    "                                            'max_leaf_nodes' : [None, 2,3]},\n",
    "                           n_jobs=-1, cv=5, scoring='accuracy', verbose=2)"
   ]
  },
  {
   "cell_type": "code",
   "execution_count": 78,
   "id": "61c4aca8",
   "metadata": {},
   "outputs": [
    {
     "name": "stdout",
     "output_type": "stream",
     "text": [
      "Fitting 5 folds for each of 72 candidates, totalling 360 fits\n"
     ]
    },
    {
     "data": {
      "text/html": [
       "<style>#sk-container-id-5 {color: black;background-color: white;}#sk-container-id-5 pre{padding: 0;}#sk-container-id-5 div.sk-toggleable {background-color: white;}#sk-container-id-5 label.sk-toggleable__label {cursor: pointer;display: block;width: 100%;margin-bottom: 0;padding: 0.3em;box-sizing: border-box;text-align: center;}#sk-container-id-5 label.sk-toggleable__label-arrow:before {content: \"▸\";float: left;margin-right: 0.25em;color: #696969;}#sk-container-id-5 label.sk-toggleable__label-arrow:hover:before {color: black;}#sk-container-id-5 div.sk-estimator:hover label.sk-toggleable__label-arrow:before {color: black;}#sk-container-id-5 div.sk-toggleable__content {max-height: 0;max-width: 0;overflow: hidden;text-align: left;background-color: #f0f8ff;}#sk-container-id-5 div.sk-toggleable__content pre {margin: 0.2em;color: black;border-radius: 0.25em;background-color: #f0f8ff;}#sk-container-id-5 input.sk-toggleable__control:checked~div.sk-toggleable__content {max-height: 200px;max-width: 100%;overflow: auto;}#sk-container-id-5 input.sk-toggleable__control:checked~label.sk-toggleable__label-arrow:before {content: \"▾\";}#sk-container-id-5 div.sk-estimator input.sk-toggleable__control:checked~label.sk-toggleable__label {background-color: #d4ebff;}#sk-container-id-5 div.sk-label input.sk-toggleable__control:checked~label.sk-toggleable__label {background-color: #d4ebff;}#sk-container-id-5 input.sk-hidden--visually {border: 0;clip: rect(1px 1px 1px 1px);clip: rect(1px, 1px, 1px, 1px);height: 1px;margin: -1px;overflow: hidden;padding: 0;position: absolute;width: 1px;}#sk-container-id-5 div.sk-estimator {font-family: monospace;background-color: #f0f8ff;border: 1px dotted black;border-radius: 0.25em;box-sizing: border-box;margin-bottom: 0.5em;}#sk-container-id-5 div.sk-estimator:hover {background-color: #d4ebff;}#sk-container-id-5 div.sk-parallel-item::after {content: \"\";width: 100%;border-bottom: 1px solid gray;flex-grow: 1;}#sk-container-id-5 div.sk-label:hover label.sk-toggleable__label {background-color: #d4ebff;}#sk-container-id-5 div.sk-serial::before {content: \"\";position: absolute;border-left: 1px solid gray;box-sizing: border-box;top: 0;bottom: 0;left: 50%;z-index: 0;}#sk-container-id-5 div.sk-serial {display: flex;flex-direction: column;align-items: center;background-color: white;padding-right: 0.2em;padding-left: 0.2em;position: relative;}#sk-container-id-5 div.sk-item {position: relative;z-index: 1;}#sk-container-id-5 div.sk-parallel {display: flex;align-items: stretch;justify-content: center;background-color: white;position: relative;}#sk-container-id-5 div.sk-item::before, #sk-container-id-5 div.sk-parallel-item::before {content: \"\";position: absolute;border-left: 1px solid gray;box-sizing: border-box;top: 0;bottom: 0;left: 50%;z-index: -1;}#sk-container-id-5 div.sk-parallel-item {display: flex;flex-direction: column;z-index: 1;position: relative;background-color: white;}#sk-container-id-5 div.sk-parallel-item:first-child::after {align-self: flex-end;width: 50%;}#sk-container-id-5 div.sk-parallel-item:last-child::after {align-self: flex-start;width: 50%;}#sk-container-id-5 div.sk-parallel-item:only-child::after {width: 0;}#sk-container-id-5 div.sk-dashed-wrapped {border: 1px dashed gray;margin: 0 0.4em 0.5em 0.4em;box-sizing: border-box;padding-bottom: 0.4em;background-color: white;}#sk-container-id-5 div.sk-label label {font-family: monospace;font-weight: bold;display: inline-block;line-height: 1.2em;}#sk-container-id-5 div.sk-label-container {text-align: center;}#sk-container-id-5 div.sk-container {/* jupyter's `normalize.less` sets `[hidden] { display: none; }` but bootstrap.min.css set `[hidden] { display: none !important; }` so we also need the `!important` here to be able to override the default hidden behavior on the sphinx rendered scikit-learn.org. See: https://github.com/scikit-learn/scikit-learn/issues/21755 */display: inline-block !important;position: relative;}#sk-container-id-5 div.sk-text-repr-fallback {display: none;}</style><div id=\"sk-container-id-5\" class=\"sk-top-container\"><div class=\"sk-text-repr-fallback\"><pre>GridSearchCV(cv=5, estimator=RandomForestClassifier(), n_jobs=-1,\n",
       "             param_grid={&#x27;max_depth&#x27;: [None, 2], &#x27;max_leaf_nodes&#x27;: [None, 2, 3],\n",
       "                         &#x27;min_samples_split&#x27;: [2, 3],\n",
       "                         &#x27;n_estimators&#x27;: [200, 300, 500],\n",
       "                         &#x27;oob_score&#x27;: [True, False]},\n",
       "             scoring=&#x27;accuracy&#x27;, verbose=2)</pre><b>In a Jupyter environment, please rerun this cell to show the HTML representation or trust the notebook. <br />On GitHub, the HTML representation is unable to render, please try loading this page with nbviewer.org.</b></div><div class=\"sk-container\" hidden><div class=\"sk-item sk-dashed-wrapped\"><div class=\"sk-label-container\"><div class=\"sk-label sk-toggleable\"><input class=\"sk-toggleable__control sk-hidden--visually\" id=\"sk-estimator-id-9\" type=\"checkbox\" ><label for=\"sk-estimator-id-9\" class=\"sk-toggleable__label sk-toggleable__label-arrow\">GridSearchCV</label><div class=\"sk-toggleable__content\"><pre>GridSearchCV(cv=5, estimator=RandomForestClassifier(), n_jobs=-1,\n",
       "             param_grid={&#x27;max_depth&#x27;: [None, 2], &#x27;max_leaf_nodes&#x27;: [None, 2, 3],\n",
       "                         &#x27;min_samples_split&#x27;: [2, 3],\n",
       "                         &#x27;n_estimators&#x27;: [200, 300, 500],\n",
       "                         &#x27;oob_score&#x27;: [True, False]},\n",
       "             scoring=&#x27;accuracy&#x27;, verbose=2)</pre></div></div></div><div class=\"sk-parallel\"><div class=\"sk-parallel-item\"><div class=\"sk-item\"><div class=\"sk-label-container\"><div class=\"sk-label sk-toggleable\"><input class=\"sk-toggleable__control sk-hidden--visually\" id=\"sk-estimator-id-10\" type=\"checkbox\" ><label for=\"sk-estimator-id-10\" class=\"sk-toggleable__label sk-toggleable__label-arrow\">estimator: RandomForestClassifier</label><div class=\"sk-toggleable__content\"><pre>RandomForestClassifier()</pre></div></div></div><div class=\"sk-serial\"><div class=\"sk-item\"><div class=\"sk-estimator sk-toggleable\"><input class=\"sk-toggleable__control sk-hidden--visually\" id=\"sk-estimator-id-11\" type=\"checkbox\" ><label for=\"sk-estimator-id-11\" class=\"sk-toggleable__label sk-toggleable__label-arrow\">RandomForestClassifier</label><div class=\"sk-toggleable__content\"><pre>RandomForestClassifier()</pre></div></div></div></div></div></div></div></div></div></div>"
      ],
      "text/plain": [
       "GridSearchCV(cv=5, estimator=RandomForestClassifier(), n_jobs=-1,\n",
       "             param_grid={'max_depth': [None, 2], 'max_leaf_nodes': [None, 2, 3],\n",
       "                         'min_samples_split': [2, 3],\n",
       "                         'n_estimators': [200, 300, 500],\n",
       "                         'oob_score': [True, False]},\n",
       "             scoring='accuracy', verbose=2)"
      ]
     },
     "execution_count": 78,
     "metadata": {},
     "output_type": "execute_result"
    }
   ],
   "source": [
    "X_train, X_test, y_train, y_test = train_test_split(X_oversample, y_oversample, random_state=42, test_size=0.2, stratify=y_oversample)\n",
    "rf_search.fit(X_train, y_train)"
   ]
  },
  {
   "cell_type": "code",
   "execution_count": 79,
   "id": "6cef908c",
   "metadata": {},
   "outputs": [
    {
     "data": {
      "text/plain": [
       "{'max_depth': None,\n",
       " 'max_leaf_nodes': None,\n",
       " 'min_samples_split': 3,\n",
       " 'n_estimators': 500,\n",
       " 'oob_score': False}"
      ]
     },
     "execution_count": 79,
     "metadata": {},
     "output_type": "execute_result"
    }
   ],
   "source": [
    "rf_search.best_params_"
   ]
  },
  {
   "cell_type": "code",
   "execution_count": 305,
   "id": "576a53ed",
   "metadata": {},
   "outputs": [
    {
     "data": {
      "text/html": [
       "<style>#sk-container-id-13 {color: black;background-color: white;}#sk-container-id-13 pre{padding: 0;}#sk-container-id-13 div.sk-toggleable {background-color: white;}#sk-container-id-13 label.sk-toggleable__label {cursor: pointer;display: block;width: 100%;margin-bottom: 0;padding: 0.3em;box-sizing: border-box;text-align: center;}#sk-container-id-13 label.sk-toggleable__label-arrow:before {content: \"▸\";float: left;margin-right: 0.25em;color: #696969;}#sk-container-id-13 label.sk-toggleable__label-arrow:hover:before {color: black;}#sk-container-id-13 div.sk-estimator:hover label.sk-toggleable__label-arrow:before {color: black;}#sk-container-id-13 div.sk-toggleable__content {max-height: 0;max-width: 0;overflow: hidden;text-align: left;background-color: #f0f8ff;}#sk-container-id-13 div.sk-toggleable__content pre {margin: 0.2em;color: black;border-radius: 0.25em;background-color: #f0f8ff;}#sk-container-id-13 input.sk-toggleable__control:checked~div.sk-toggleable__content {max-height: 200px;max-width: 100%;overflow: auto;}#sk-container-id-13 input.sk-toggleable__control:checked~label.sk-toggleable__label-arrow:before {content: \"▾\";}#sk-container-id-13 div.sk-estimator input.sk-toggleable__control:checked~label.sk-toggleable__label {background-color: #d4ebff;}#sk-container-id-13 div.sk-label input.sk-toggleable__control:checked~label.sk-toggleable__label {background-color: #d4ebff;}#sk-container-id-13 input.sk-hidden--visually {border: 0;clip: rect(1px 1px 1px 1px);clip: rect(1px, 1px, 1px, 1px);height: 1px;margin: -1px;overflow: hidden;padding: 0;position: absolute;width: 1px;}#sk-container-id-13 div.sk-estimator {font-family: monospace;background-color: #f0f8ff;border: 1px dotted black;border-radius: 0.25em;box-sizing: border-box;margin-bottom: 0.5em;}#sk-container-id-13 div.sk-estimator:hover {background-color: #d4ebff;}#sk-container-id-13 div.sk-parallel-item::after {content: \"\";width: 100%;border-bottom: 1px solid gray;flex-grow: 1;}#sk-container-id-13 div.sk-label:hover label.sk-toggleable__label {background-color: #d4ebff;}#sk-container-id-13 div.sk-serial::before {content: \"\";position: absolute;border-left: 1px solid gray;box-sizing: border-box;top: 0;bottom: 0;left: 50%;z-index: 0;}#sk-container-id-13 div.sk-serial {display: flex;flex-direction: column;align-items: center;background-color: white;padding-right: 0.2em;padding-left: 0.2em;position: relative;}#sk-container-id-13 div.sk-item {position: relative;z-index: 1;}#sk-container-id-13 div.sk-parallel {display: flex;align-items: stretch;justify-content: center;background-color: white;position: relative;}#sk-container-id-13 div.sk-item::before, #sk-container-id-13 div.sk-parallel-item::before {content: \"\";position: absolute;border-left: 1px solid gray;box-sizing: border-box;top: 0;bottom: 0;left: 50%;z-index: -1;}#sk-container-id-13 div.sk-parallel-item {display: flex;flex-direction: column;z-index: 1;position: relative;background-color: white;}#sk-container-id-13 div.sk-parallel-item:first-child::after {align-self: flex-end;width: 50%;}#sk-container-id-13 div.sk-parallel-item:last-child::after {align-self: flex-start;width: 50%;}#sk-container-id-13 div.sk-parallel-item:only-child::after {width: 0;}#sk-container-id-13 div.sk-dashed-wrapped {border: 1px dashed gray;margin: 0 0.4em 0.5em 0.4em;box-sizing: border-box;padding-bottom: 0.4em;background-color: white;}#sk-container-id-13 div.sk-label label {font-family: monospace;font-weight: bold;display: inline-block;line-height: 1.2em;}#sk-container-id-13 div.sk-label-container {text-align: center;}#sk-container-id-13 div.sk-container {/* jupyter's `normalize.less` sets `[hidden] { display: none; }` but bootstrap.min.css set `[hidden] { display: none !important; }` so we also need the `!important` here to be able to override the default hidden behavior on the sphinx rendered scikit-learn.org. See: https://github.com/scikit-learn/scikit-learn/issues/21755 */display: inline-block !important;position: relative;}#sk-container-id-13 div.sk-text-repr-fallback {display: none;}</style><div id=\"sk-container-id-13\" class=\"sk-top-container\"><div class=\"sk-text-repr-fallback\"><pre>RandomForestClassifier(min_samples_split=3, n_estimators=500)</pre><b>In a Jupyter environment, please rerun this cell to show the HTML representation or trust the notebook. <br />On GitHub, the HTML representation is unable to render, please try loading this page with nbviewer.org.</b></div><div class=\"sk-container\" hidden><div class=\"sk-item\"><div class=\"sk-estimator sk-toggleable\"><input class=\"sk-toggleable__control sk-hidden--visually\" id=\"sk-estimator-id-19\" type=\"checkbox\" checked><label for=\"sk-estimator-id-19\" class=\"sk-toggleable__label sk-toggleable__label-arrow\">RandomForestClassifier</label><div class=\"sk-toggleable__content\"><pre>RandomForestClassifier(min_samples_split=3, n_estimators=500)</pre></div></div></div></div></div>"
      ],
      "text/plain": [
       "RandomForestClassifier(min_samples_split=3, n_estimators=500)"
      ]
     },
     "execution_count": 305,
     "metadata": {},
     "output_type": "execute_result"
    }
   ],
   "source": [
    "X_train, X_test, y_train, y_test = train_test_split(X_oversample, y_oversample, random_state=42, test_size=0.2, stratify=y_oversample)\n",
    "rf_search.best_estimator_.fit(X_train, y_train)"
   ]
  },
  {
   "cell_type": "code",
   "execution_count": 306,
   "id": "6f95b28e",
   "metadata": {},
   "outputs": [
    {
     "name": "stdout",
     "output_type": "stream",
     "text": [
      "                precision    recall  f1-score   support\n",
      "\n",
      "Benign Traffic       1.00      1.00      1.00      4462\n",
      " Slow HTTP GET       1.00      1.00      1.00      2112\n",
      "     Slow Read       0.82      0.68      0.74       800\n",
      "     Slow Post       0.91      0.75      0.82      1213\n",
      "     GoldenEye       0.76      0.81      0.79       856\n",
      "          Hulk       0.74      0.86      0.80      1901\n",
      "\n",
      "      accuracy                           0.91     11344\n",
      "     macro avg       0.87      0.85      0.86     11344\n",
      "  weighted avg       0.92      0.91      0.91     11344\n",
      "\n"
     ]
    }
   ],
   "source": [
    "y_pred_rf_best = rf_search.best_estimator_.predict(X_test)\n",
    "print(classification_report(y_test, y_pred_rf_best, target_names=list(CATEGORY_MAP.keys())))"
   ]
  },
  {
   "cell_type": "code",
   "execution_count": 307,
   "id": "3c50f355",
   "metadata": {},
   "outputs": [
    {
     "data": {
      "text/plain": [
       "<sklearn.metrics._plot.confusion_matrix.ConfusionMatrixDisplay at 0x1f3bc8164a0>"
      ]
     },
     "execution_count": 307,
     "metadata": {},
     "output_type": "execute_result"
    },
    {
     "data": {
      "image/png": "[encoded data removed]",
      "text/plain": [
       "<Figure size 640x480 with 2 Axes>"
      ]
     },
     "metadata": {},
     "output_type": "display_data"
    }
   ],
   "source": [
    "ConfusionMatrixDisplay.from_predictions(y_test, y_pred_rf_best, labels=y_oversample.unique(), xticks_rotation=\"vertical\")"
   ]
  },
  {
   "cell_type": "code",
   "execution_count": 249,
   "id": "87a3d75f",
   "metadata": {},
   "outputs": [
    {
     "data": {
      "text/plain": [
       "{'Benign Traffic': 0,\n",
       " 'Slow HTTP GET': 1,\n",
       " 'Slow Read': 2,\n",
       " 'Slow Post': 3,\n",
       " 'GoldenEye': 4,\n",
       " 'Hulk': 5}"
      ]
     },
     "execution_count": 249,
     "metadata": {},
     "output_type": "execute_result"
    }
   ],
   "source": [
    "CATEGORY_MAP"
   ]
  },
  {
   "cell_type": "code",
   "execution_count": 250,
   "id": "683d02df",
   "metadata": {},
   "outputs": [
    {
     "data": {
      "text/plain": [
       "[('flags', 0.23520858126172892),\n",
       " ('Packets_A-to-B(TX_pkts)', 0.18581037389657226),\n",
       " ('Bytes', 0.11998217918208726),\n",
       " ('Packets', 0.10607784624755676),\n",
       " ('tot_kbps', 0.054130597852715394),\n",
       " ('Pktrate', 0.05343878203076434),\n",
       " ('Bytes_A-to-B(TX_bytes)', 0.049297382013531205),\n",
       " ('Byte nsec', 0.04347044089872886),\n",
       " ('Bytes_B-to-A(RX_bytes)', 0.043395705803909015),\n",
       " ('Packets_B-to-A(RX_pkts)', 0.031283003521820514),\n",
       " ('Flow Duration', 0.028641330733387264),\n",
       " ('Bits/s B-to-A (RX_bits/s)', 0.02144145663851455),\n",
       " ('Bits/s A-to-B (TX_bits/s)', 0.01897600198191474),\n",
       " ('Pktrate nsec', 0.00884631793676885),\n",
       " ('Idle Timeout', 0.0),\n",
       " ('Hard Timeout', 0.0)]"
      ]
     },
     "execution_count": 250,
     "metadata": {},
     "output_type": "execute_result"
    }
   ],
   "source": [
    "feature_imp_dict = {}\n",
    "for i in range(len(rf_search.best_estimator_.feature_importances_)):\n",
    "    feature_imp_dict[rf_search.best_estimator_.feature_names_in_[i]] = rf_search.best_estimator_.feature_importances_[i]\n",
    "    \n",
    "sorted(feature_imp_dict.items(), key=lambda x:x[1], reverse=True)"
   ]
  },
  {
   "cell_type": "code",
   "execution_count": 105,
   "id": "ab37d790",
   "metadata": {},
   "outputs": [
    {
     "data": {
      "image/png": "[encoded data removed]",
      "text/plain": [
       "<Figure size 640x480 with 1 Axes>"
      ]
     },
     "metadata": {},
     "output_type": "display_data"
    }
   ],
   "source": [
    "feature_imp_df = pd.DataFrame({'Importance':feature_imp_dict.values()}, index=list(feature_imp_dict.keys()))\n",
    "# sns.barplot()\n",
    "feature_imp_df_sort = feature_imp_df.sort_values('Importance', ascending=False)\n",
    "sns.barplot(data=feature_imp_df_sort, x='Importance', y=feature_imp_df_sort.index, orient=\"h\")\n",
    "plt.show()"
   ]
  },
  {
   "cell_type": "markdown",
   "id": "8143d777",
   "metadata": {},
   "source": [
    "## Ablation analysis"
   ]
  },
  {
   "cell_type": "code",
   "execution_count": 89,
   "id": "050e75a1",
   "metadata": {},
   "outputs": [],
   "source": [
    "df_ddos_ab = pd.read_csv('ddos_traffic_model_ready.csv')\n",
    "df_normal_ab = pd.read_csv('normal_traffic_model_ready.csv')"
   ]
  },
  {
   "cell_type": "code",
   "execution_count": 90,
   "id": "036e88c4",
   "metadata": {},
   "outputs": [],
   "source": [
    "df_final_ab = pd.concat([df_ddos_ab, df_normal_ab])\n",
    "df_final_ab = df_final_ab.sample(frac=1, random_state=42)"
   ]
  },
  {
   "cell_type": "code",
   "execution_count": 107,
   "id": "e172fe8d",
   "metadata": {},
   "outputs": [],
   "source": [
    "X_ab_1 = df_final_ab.drop(labels=['Address-A', 'Port-A', 'Address-B', 'Port-B', 'StreamID', \n",
    "                         'PerctageFiltered', 'CATEGORY', 'Relative_Start', \n",
    "                         'TotalPackets', 'Syn', 'Acknowledgment', 'Fin', 'Reset', 'Length', 'TCP Segment Len', 'Push',\n",
    "                         'Bytes In Flight', 'Duration', 'Header Length', 'flags'], axis=1)\n",
    "\n",
    "y_ab_1 = df_final_ab['CATEGORY']\n",
    "y_ab_1 = y_ab_1.map(CATEGORY_MAP)"
   ]
  },
  {
   "cell_type": "code",
   "execution_count": 313,
   "id": "eedd19f3",
   "metadata": {},
   "outputs": [
    {
     "name": "stdout",
     "output_type": "stream",
     "text": [
      "Mean acc with std : 0.9118 + 0.0031\n"
     ]
    }
   ],
   "source": [
    "scores1 = cross_val_score(rf_search.best_estimator_, X_oversample, y_oversample, scoring='accuracy', cv=5, n_jobs=-1)\n",
    "print(f\"Mean acc with std : {np.mean(scores1):.4f} + {np.std(scores1):.4f}\")"
   ]
  },
  {
   "cell_type": "markdown",
   "id": "fe96b9f9",
   "metadata": {},
   "source": [
    "### Removing Flags column"
   ]
  },
  {
   "cell_type": "code",
   "execution_count": 108,
   "id": "6d331e98",
   "metadata": {},
   "outputs": [
    {
     "data": {
      "text/html": [
       "<style>#sk-container-id-7 {color: black;background-color: white;}#sk-container-id-7 pre{padding: 0;}#sk-container-id-7 div.sk-toggleable {background-color: white;}#sk-container-id-7 label.sk-toggleable__label {cursor: pointer;display: block;width: 100%;margin-bottom: 0;padding: 0.3em;box-sizing: border-box;text-align: center;}#sk-container-id-7 label.sk-toggleable__label-arrow:before {content: \"▸\";float: left;margin-right: 0.25em;color: #696969;}#sk-container-id-7 label.sk-toggleable__label-arrow:hover:before {color: black;}#sk-container-id-7 div.sk-estimator:hover label.sk-toggleable__label-arrow:before {color: black;}#sk-container-id-7 div.sk-toggleable__content {max-height: 0;max-width: 0;overflow: hidden;text-align: left;background-color: #f0f8ff;}#sk-container-id-7 div.sk-toggleable__content pre {margin: 0.2em;color: black;border-radius: 0.25em;background-color: #f0f8ff;}#sk-container-id-7 input.sk-toggleable__control:checked~div.sk-toggleable__content {max-height: 200px;max-width: 100%;overflow: auto;}#sk-container-id-7 input.sk-toggleable__control:checked~label.sk-toggleable__label-arrow:before {content: \"▾\";}#sk-container-id-7 div.sk-estimator input.sk-toggleable__control:checked~label.sk-toggleable__label {background-color: #d4ebff;}#sk-container-id-7 div.sk-label input.sk-toggleable__control:checked~label.sk-toggleable__label {background-color: #d4ebff;}#sk-container-id-7 input.sk-hidden--visually {border: 0;clip: rect(1px 1px 1px 1px);clip: rect(1px, 1px, 1px, 1px);height: 1px;margin: -1px;overflow: hidden;padding: 0;position: absolute;width: 1px;}#sk-container-id-7 div.sk-estimator {font-family: monospace;background-color: #f0f8ff;border: 1px dotted black;border-radius: 0.25em;box-sizing: border-box;margin-bottom: 0.5em;}#sk-container-id-7 div.sk-estimator:hover {background-color: #d4ebff;}#sk-container-id-7 div.sk-parallel-item::after {content: \"\";width: 100%;border-bottom: 1px solid gray;flex-grow: 1;}#sk-container-id-7 div.sk-label:hover label.sk-toggleable__label {background-color: #d4ebff;}#sk-container-id-7 div.sk-serial::before {content: \"\";position: absolute;border-left: 1px solid gray;box-sizing: border-box;top: 0;bottom: 0;left: 50%;z-index: 0;}#sk-container-id-7 div.sk-serial {display: flex;flex-direction: column;align-items: center;background-color: white;padding-right: 0.2em;padding-left: 0.2em;position: relative;}#sk-container-id-7 div.sk-item {position: relative;z-index: 1;}#sk-container-id-7 div.sk-parallel {display: flex;align-items: stretch;justify-content: center;background-color: white;position: relative;}#sk-container-id-7 div.sk-item::before, #sk-container-id-7 div.sk-parallel-item::before {content: \"\";position: absolute;border-left: 1px solid gray;box-sizing: border-box;top: 0;bottom: 0;left: 50%;z-index: -1;}#sk-container-id-7 div.sk-parallel-item {display: flex;flex-direction: column;z-index: 1;position: relative;background-color: white;}#sk-container-id-7 div.sk-parallel-item:first-child::after {align-self: flex-end;width: 50%;}#sk-container-id-7 div.sk-parallel-item:last-child::after {align-self: flex-start;width: 50%;}#sk-container-id-7 div.sk-parallel-item:only-child::after {width: 0;}#sk-container-id-7 div.sk-dashed-wrapped {border: 1px dashed gray;margin: 0 0.4em 0.5em 0.4em;box-sizing: border-box;padding-bottom: 0.4em;background-color: white;}#sk-container-id-7 div.sk-label label {font-family: monospace;font-weight: bold;display: inline-block;line-height: 1.2em;}#sk-container-id-7 div.sk-label-container {text-align: center;}#sk-container-id-7 div.sk-container {/* jupyter's `normalize.less` sets `[hidden] { display: none; }` but bootstrap.min.css set `[hidden] { display: none !important; }` so we also need the `!important` here to be able to override the default hidden behavior on the sphinx rendered scikit-learn.org. See: https://github.com/scikit-learn/scikit-learn/issues/21755 */display: inline-block !important;position: relative;}#sk-container-id-7 div.sk-text-repr-fallback {display: none;}</style><div id=\"sk-container-id-7\" class=\"sk-top-container\"><div class=\"sk-text-repr-fallback\"><pre>RandomForestClassifier(min_samples_split=3, n_estimators=500)</pre><b>In a Jupyter environment, please rerun this cell to show the HTML representation or trust the notebook. <br />On GitHub, the HTML representation is unable to render, please try loading this page with nbviewer.org.</b></div><div class=\"sk-container\" hidden><div class=\"sk-item\"><div class=\"sk-estimator sk-toggleable\"><input class=\"sk-toggleable__control sk-hidden--visually\" id=\"sk-estimator-id-13\" type=\"checkbox\" checked><label for=\"sk-estimator-id-13\" class=\"sk-toggleable__label sk-toggleable__label-arrow\">RandomForestClassifier</label><div class=\"sk-toggleable__content\"><pre>RandomForestClassifier(min_samples_split=3, n_estimators=500)</pre></div></div></div></div></div>"
      ],
      "text/plain": [
       "RandomForestClassifier(min_samples_split=3, n_estimators=500)"
      ]
     },
     "execution_count": 108,
     "metadata": {},
     "output_type": "execute_result"
    }
   ],
   "source": [
    "X_oversample_1, y_oversample_1 = perform_over_sampling(X_ab_1, y_ab_1)\n",
    "X_train, X_test, y_train, y_test = train_test_split(X_oversample_1, y_oversample_1, random_state=42, test_size=0.2, stratify=y_oversample_1)\n",
    "\n",
    "rf_search.best_estimator_.fit(X_train, y_train)\n"
   ]
  },
  {
   "cell_type": "code",
   "execution_count": 109,
   "id": "c5cabdd4",
   "metadata": {},
   "outputs": [
    {
     "name": "stdout",
     "output_type": "stream",
     "text": [
      "                precision    recall  f1-score   support\n",
      "\n",
      "Benign Traffic       1.00      1.00      1.00      4462\n",
      " Slow HTTP GET       1.00      1.00      1.00      2112\n",
      "     Slow Read       0.58      0.51      0.54       800\n",
      "     Slow Post       0.26      0.22      0.24      1213\n",
      "     GoldenEye       0.20      0.13      0.16       856\n",
      "          Hulk       0.44      0.59      0.50      1901\n",
      "\n",
      "      accuracy                           0.75     11344\n",
      "     macro avg       0.58      0.57      0.57     11344\n",
      "  weighted avg       0.74      0.75      0.74     11344\n",
      "\n"
     ]
    }
   ],
   "source": [
    "y_pred_rf_best_1 = rf_search.best_estimator_.predict(X_test)\n",
    "print(classification_report(y_test, y_pred_rf_best_1, target_names=list(CATEGORY_MAP.keys())))"
   ]
  },
  {
   "cell_type": "code",
   "execution_count": 110,
   "id": "a38f9f24",
   "metadata": {},
   "outputs": [
    {
     "name": "stdout",
     "output_type": "stream",
     "text": [
      "Mean acc with std : 0.7433 + 0.0079\n"
     ]
    }
   ],
   "source": [
    "scores1 = cross_val_score(rf_search.best_estimator_, X_oversample_1, y_oversample_1, scoring='accuracy', cv=5, n_jobs=-1)\n",
    "print(f\"Mean acc with std : {np.mean(scores1):.4f} + {np.std(scores1):.4f}\")"
   ]
  },
  {
   "cell_type": "markdown",
   "id": "70ce490a",
   "metadata": {},
   "source": [
    "### Removing Packets and Bytes column"
   ]
  },
  {
   "cell_type": "code",
   "execution_count": 113,
   "id": "8f52254d",
   "metadata": {},
   "outputs": [],
   "source": [
    "X_ab_2 = df_final_ab.drop(labels=['Address-A', 'Port-A', 'Address-B', 'Port-B', 'StreamID', \n",
    "                         'PerctageFiltered', 'CATEGORY', 'Relative_Start', \n",
    "                         'TotalPackets', 'Syn', 'Acknowledgment', 'Fin', 'Reset', 'Length', 'TCP Segment Len', 'Push',\n",
    "                         'Bytes In Flight', 'Duration', 'Header Length', 'Packets', 'Bytes'], axis=1)\n",
    "\n",
    "y_ab_2 = df_final_ab['CATEGORY']\n",
    "y_ab_2 = y_ab_2.map(CATEGORY_MAP)"
   ]
  },
  {
   "cell_type": "code",
   "execution_count": 114,
   "id": "bfc4eb61",
   "metadata": {},
   "outputs": [
    {
     "data": {
      "text/html": [
       "<style>#sk-container-id-8 {color: black;background-color: white;}#sk-container-id-8 pre{padding: 0;}#sk-container-id-8 div.sk-toggleable {background-color: white;}#sk-container-id-8 label.sk-toggleable__label {cursor: pointer;display: block;width: 100%;margin-bottom: 0;padding: 0.3em;box-sizing: border-box;text-align: center;}#sk-container-id-8 label.sk-toggleable__label-arrow:before {content: \"▸\";float: left;margin-right: 0.25em;color: #696969;}#sk-container-id-8 label.sk-toggleable__label-arrow:hover:before {color: black;}#sk-container-id-8 div.sk-estimator:hover label.sk-toggleable__label-arrow:before {color: black;}#sk-container-id-8 div.sk-toggleable__content {max-height: 0;max-width: 0;overflow: hidden;text-align: left;background-color: #f0f8ff;}#sk-container-id-8 div.sk-toggleable__content pre {margin: 0.2em;color: black;border-radius: 0.25em;background-color: #f0f8ff;}#sk-container-id-8 input.sk-toggleable__control:checked~div.sk-toggleable__content {max-height: 200px;max-width: 100%;overflow: auto;}#sk-container-id-8 input.sk-toggleable__control:checked~label.sk-toggleable__label-arrow:before {content: \"▾\";}#sk-container-id-8 div.sk-estimator input.sk-toggleable__control:checked~label.sk-toggleable__label {background-color: #d4ebff;}#sk-container-id-8 div.sk-label input.sk-toggleable__control:checked~label.sk-toggleable__label {background-color: #d4ebff;}#sk-container-id-8 input.sk-hidden--visually {border: 0;clip: rect(1px 1px 1px 1px);clip: rect(1px, 1px, 1px, 1px);height: 1px;margin: -1px;overflow: hidden;padding: 0;position: absolute;width: 1px;}#sk-container-id-8 div.sk-estimator {font-family: monospace;background-color: #f0f8ff;border: 1px dotted black;border-radius: 0.25em;box-sizing: border-box;margin-bottom: 0.5em;}#sk-container-id-8 div.sk-estimator:hover {background-color: #d4ebff;}#sk-container-id-8 div.sk-parallel-item::after {content: \"\";width: 100%;border-bottom: 1px solid gray;flex-grow: 1;}#sk-container-id-8 div.sk-label:hover label.sk-toggleable__label {background-color: #d4ebff;}#sk-container-id-8 div.sk-serial::before {content: \"\";position: absolute;border-left: 1px solid gray;box-sizing: border-box;top: 0;bottom: 0;left: 50%;z-index: 0;}#sk-container-id-8 div.sk-serial {display: flex;flex-direction: column;align-items: center;background-color: white;padding-right: 0.2em;padding-left: 0.2em;position: relative;}#sk-container-id-8 div.sk-item {position: relative;z-index: 1;}#sk-container-id-8 div.sk-parallel {display: flex;align-items: stretch;justify-content: center;background-color: white;position: relative;}#sk-container-id-8 div.sk-item::before, #sk-container-id-8 div.sk-parallel-item::before {content: \"\";position: absolute;border-left: 1px solid gray;box-sizing: border-box;top: 0;bottom: 0;left: 50%;z-index: -1;}#sk-container-id-8 div.sk-parallel-item {display: flex;flex-direction: column;z-index: 1;position: relative;background-color: white;}#sk-container-id-8 div.sk-parallel-item:first-child::after {align-self: flex-end;width: 50%;}#sk-container-id-8 div.sk-parallel-item:last-child::after {align-self: flex-start;width: 50%;}#sk-container-id-8 div.sk-parallel-item:only-child::after {width: 0;}#sk-container-id-8 div.sk-dashed-wrapped {border: 1px dashed gray;margin: 0 0.4em 0.5em 0.4em;box-sizing: border-box;padding-bottom: 0.4em;background-color: white;}#sk-container-id-8 div.sk-label label {font-family: monospace;font-weight: bold;display: inline-block;line-height: 1.2em;}#sk-container-id-8 div.sk-label-container {text-align: center;}#sk-container-id-8 div.sk-container {/* jupyter's `normalize.less` sets `[hidden] { display: none; }` but bootstrap.min.css set `[hidden] { display: none !important; }` so we also need the `!important` here to be able to override the default hidden behavior on the sphinx rendered scikit-learn.org. See: https://github.com/scikit-learn/scikit-learn/issues/21755 */display: inline-block !important;position: relative;}#sk-container-id-8 div.sk-text-repr-fallback {display: none;}</style><div id=\"sk-container-id-8\" class=\"sk-top-container\"><div class=\"sk-text-repr-fallback\"><pre>RandomForestClassifier(min_samples_split=3, n_estimators=500)</pre><b>In a Jupyter environment, please rerun this cell to show the HTML representation or trust the notebook. <br />On GitHub, the HTML representation is unable to render, please try loading this page with nbviewer.org.</b></div><div class=\"sk-container\" hidden><div class=\"sk-item\"><div class=\"sk-estimator sk-toggleable\"><input class=\"sk-toggleable__control sk-hidden--visually\" id=\"sk-estimator-id-14\" type=\"checkbox\" checked><label for=\"sk-estimator-id-14\" class=\"sk-toggleable__label sk-toggleable__label-arrow\">RandomForestClassifier</label><div class=\"sk-toggleable__content\"><pre>RandomForestClassifier(min_samples_split=3, n_estimators=500)</pre></div></div></div></div></div>"
      ],
      "text/plain": [
       "RandomForestClassifier(min_samples_split=3, n_estimators=500)"
      ]
     },
     "execution_count": 114,
     "metadata": {},
     "output_type": "execute_result"
    }
   ],
   "source": [
    "X_oversample_2, y_oversample_2 = perform_over_sampling(X_ab_2, y_ab_2)\n",
    "X_train, X_test, y_train, y_test = train_test_split(X_oversample_2, y_oversample_2, random_state=42, test_size=0.2, stratify=y_oversample_2)\n",
    "\n",
    "rf_search.best_estimator_.fit(X_train, y_train)"
   ]
  },
  {
   "cell_type": "code",
   "execution_count": 115,
   "id": "86dd550e",
   "metadata": {},
   "outputs": [
    {
     "name": "stdout",
     "output_type": "stream",
     "text": [
      "                precision    recall  f1-score   support\n",
      "\n",
      "Benign Traffic       1.00      1.00      1.00      4462\n",
      " Slow HTTP GET       0.99      1.00      1.00      2112\n",
      "     Slow Read       0.83      0.66      0.74       800\n",
      "     Slow Post       0.91      0.74      0.82      1213\n",
      "     GoldenEye       0.80      0.82      0.81       856\n",
      "          Hulk       0.73      0.88      0.80      1901\n",
      "\n",
      "      accuracy                           0.91     11344\n",
      "     macro avg       0.88      0.85      0.86     11344\n",
      "  weighted avg       0.92      0.91      0.91     11344\n",
      "\n"
     ]
    }
   ],
   "source": [
    "y_pred_rf_best_2 = rf_search.best_estimator_.predict(X_test)\n",
    "print(classification_report(y_test, y_pred_rf_best_2, target_names=list(CATEGORY_MAP.keys())))"
   ]
  },
  {
   "cell_type": "code",
   "execution_count": 116,
   "id": "75f118de",
   "metadata": {},
   "outputs": [
    {
     "name": "stdout",
     "output_type": "stream",
     "text": [
      "Mean acc with std : 0.9079 + 0.0048\n"
     ]
    }
   ],
   "source": [
    "scores1 = cross_val_score(rf_search.best_estimator_, X_oversample_2, y_oversample_2, scoring='accuracy', cv=5, n_jobs=-1)\n",
    "print(f\"Mean acc with std : {np.mean(scores1):.4f} + {np.std(scores1):.4f}\")"
   ]
  },
  {
   "cell_type": "markdown",
   "id": "a84d8ec8",
   "metadata": {},
   "source": [
    "### Removing Packets_A-to-B(TX_pkts) column"
   ]
  },
  {
   "cell_type": "code",
   "execution_count": 117,
   "id": "552ceef7",
   "metadata": {},
   "outputs": [],
   "source": [
    "X_ab_3 = df_final_ab.drop(labels=['Address-A', 'Port-A', 'Address-B', 'Port-B', 'StreamID', \n",
    "                         'PerctageFiltered', 'CATEGORY', 'Relative_Start', \n",
    "                         'TotalPackets', 'Syn', 'Acknowledgment', 'Fin', 'Reset', 'Length', 'TCP Segment Len', 'Push',\n",
    "                         'Bytes In Flight', 'Duration', 'Header Length', 'Packets_A-to-B(TX_pkts)'], axis=1)\n",
    "\n",
    "y_ab_3 = df_final_ab['CATEGORY']\n",
    "y_ab_3 = y_ab_3.map(CATEGORY_MAP)"
   ]
  },
  {
   "cell_type": "code",
   "execution_count": 118,
   "id": "d3af98e8",
   "metadata": {},
   "outputs": [
    {
     "data": {
      "text/html": [
       "<style>#sk-container-id-9 {color: black;background-color: white;}#sk-container-id-9 pre{padding: 0;}#sk-container-id-9 div.sk-toggleable {background-color: white;}#sk-container-id-9 label.sk-toggleable__label {cursor: pointer;display: block;width: 100%;margin-bottom: 0;padding: 0.3em;box-sizing: border-box;text-align: center;}#sk-container-id-9 label.sk-toggleable__label-arrow:before {content: \"▸\";float: left;margin-right: 0.25em;color: #696969;}#sk-container-id-9 label.sk-toggleable__label-arrow:hover:before {color: black;}#sk-container-id-9 div.sk-estimator:hover label.sk-toggleable__label-arrow:before {color: black;}#sk-container-id-9 div.sk-toggleable__content {max-height: 0;max-width: 0;overflow: hidden;text-align: left;background-color: #f0f8ff;}#sk-container-id-9 div.sk-toggleable__content pre {margin: 0.2em;color: black;border-radius: 0.25em;background-color: #f0f8ff;}#sk-container-id-9 input.sk-toggleable__control:checked~div.sk-toggleable__content {max-height: 200px;max-width: 100%;overflow: auto;}#sk-container-id-9 input.sk-toggleable__control:checked~label.sk-toggleable__label-arrow:before {content: \"▾\";}#sk-container-id-9 div.sk-estimator input.sk-toggleable__control:checked~label.sk-toggleable__label {background-color: #d4ebff;}#sk-container-id-9 div.sk-label input.sk-toggleable__control:checked~label.sk-toggleable__label {background-color: #d4ebff;}#sk-container-id-9 input.sk-hidden--visually {border: 0;clip: rect(1px 1px 1px 1px);clip: rect(1px, 1px, 1px, 1px);height: 1px;margin: -1px;overflow: hidden;padding: 0;position: absolute;width: 1px;}#sk-container-id-9 div.sk-estimator {font-family: monospace;background-color: #f0f8ff;border: 1px dotted black;border-radius: 0.25em;box-sizing: border-box;margin-bottom: 0.5em;}#sk-container-id-9 div.sk-estimator:hover {background-color: #d4ebff;}#sk-container-id-9 div.sk-parallel-item::after {content: \"\";width: 100%;border-bottom: 1px solid gray;flex-grow: 1;}#sk-container-id-9 div.sk-label:hover label.sk-toggleable__label {background-color: #d4ebff;}#sk-container-id-9 div.sk-serial::before {content: \"\";position: absolute;border-left: 1px solid gray;box-sizing: border-box;top: 0;bottom: 0;left: 50%;z-index: 0;}#sk-container-id-9 div.sk-serial {display: flex;flex-direction: column;align-items: center;background-color: white;padding-right: 0.2em;padding-left: 0.2em;position: relative;}#sk-container-id-9 div.sk-item {position: relative;z-index: 1;}#sk-container-id-9 div.sk-parallel {display: flex;align-items: stretch;justify-content: center;background-color: white;position: relative;}#sk-container-id-9 div.sk-item::before, #sk-container-id-9 div.sk-parallel-item::before {content: \"\";position: absolute;border-left: 1px solid gray;box-sizing: border-box;top: 0;bottom: 0;left: 50%;z-index: -1;}#sk-container-id-9 div.sk-parallel-item {display: flex;flex-direction: column;z-index: 1;position: relative;background-color: white;}#sk-container-id-9 div.sk-parallel-item:first-child::after {align-self: flex-end;width: 50%;}#sk-container-id-9 div.sk-parallel-item:last-child::after {align-self: flex-start;width: 50%;}#sk-container-id-9 div.sk-parallel-item:only-child::after {width: 0;}#sk-container-id-9 div.sk-dashed-wrapped {border: 1px dashed gray;margin: 0 0.4em 0.5em 0.4em;box-sizing: border-box;padding-bottom: 0.4em;background-color: white;}#sk-container-id-9 div.sk-label label {font-family: monospace;font-weight: bold;display: inline-block;line-height: 1.2em;}#sk-container-id-9 div.sk-label-container {text-align: center;}#sk-container-id-9 div.sk-container {/* jupyter's `normalize.less` sets `[hidden] { display: none; }` but bootstrap.min.css set `[hidden] { display: none !important; }` so we also need the `!important` here to be able to override the default hidden behavior on the sphinx rendered scikit-learn.org. See: https://github.com/scikit-learn/scikit-learn/issues/21755 */display: inline-block !important;position: relative;}#sk-container-id-9 div.sk-text-repr-fallback {display: none;}</style><div id=\"sk-container-id-9\" class=\"sk-top-container\"><div class=\"sk-text-repr-fallback\"><pre>RandomForestClassifier(min_samples_split=3, n_estimators=500)</pre><b>In a Jupyter environment, please rerun this cell to show the HTML representation or trust the notebook. <br />On GitHub, the HTML representation is unable to render, please try loading this page with nbviewer.org.</b></div><div class=\"sk-container\" hidden><div class=\"sk-item\"><div class=\"sk-estimator sk-toggleable\"><input class=\"sk-toggleable__control sk-hidden--visually\" id=\"sk-estimator-id-15\" type=\"checkbox\" checked><label for=\"sk-estimator-id-15\" class=\"sk-toggleable__label sk-toggleable__label-arrow\">RandomForestClassifier</label><div class=\"sk-toggleable__content\"><pre>RandomForestClassifier(min_samples_split=3, n_estimators=500)</pre></div></div></div></div></div>"
      ],
      "text/plain": [
       "RandomForestClassifier(min_samples_split=3, n_estimators=500)"
      ]
     },
     "execution_count": 118,
     "metadata": {},
     "output_type": "execute_result"
    }
   ],
   "source": [
    "X_oversample_3, y_oversample_3 = perform_over_sampling(X_ab_3, y_ab_3)\n",
    "X_train, X_test, y_train, y_test = train_test_split(X_oversample_3, y_oversample_3, random_state=42, test_size=0.2, stratify=y_oversample_3)\n",
    "\n",
    "rf_search.best_estimator_.fit(X_train, y_train)"
   ]
  },
  {
   "cell_type": "code",
   "execution_count": 120,
   "id": "786751ed",
   "metadata": {},
   "outputs": [
    {
     "name": "stdout",
     "output_type": "stream",
     "text": [
      "                precision    recall  f1-score   support\n",
      "\n",
      "Benign Traffic       1.00      1.00      1.00      4462\n",
      " Slow HTTP GET       0.85      0.96      0.90      2112\n",
      "     Slow Read       0.83      0.65      0.72       800\n",
      "     Slow Post       0.76      0.46      0.57      1213\n",
      "     GoldenEye       0.80      0.82      0.81       856\n",
      "          Hulk       0.73      0.88      0.80      1901\n",
      "\n",
      "      accuracy                           0.87     11344\n",
      "     macro avg       0.83      0.79      0.80     11344\n",
      "  weighted avg       0.87      0.87      0.87     11344\n",
      "\n"
     ]
    }
   ],
   "source": [
    "y_pred_rf_best_3 = rf_search.best_estimator_.predict(X_test)\n",
    "print(classification_report(y_test, y_pred_rf_best_3, target_names=list(CATEGORY_MAP.keys())))"
   ]
  },
  {
   "cell_type": "code",
   "execution_count": 119,
   "id": "8e5769e9",
   "metadata": {},
   "outputs": [
    {
     "name": "stdout",
     "output_type": "stream",
     "text": [
      "Mean acc with std : 0.8687 + 0.0058\n"
     ]
    }
   ],
   "source": [
    "scores1 = cross_val_score(rf_search.best_estimator_, X_oversample_3, y_oversample_3, scoring='accuracy', cv=5, n_jobs=-1)\n",
    "print(f\"Mean acc with std : {np.mean(scores1):.4f} + {np.std(scores1):.4f}\")"
   ]
  },
  {
   "cell_type": "markdown",
   "id": "3f877120",
   "metadata": {},
   "source": [
    "## Sensitivity Analysis - Hyperparameter"
   ]
  },
  {
   "cell_type": "code",
   "execution_count": 121,
   "id": "aa6419a0",
   "metadata": {},
   "outputs": [
    {
     "data": {
      "text/plain": [
       "{'max_depth': None,\n",
       " 'max_leaf_nodes': None,\n",
       " 'min_samples_split': 3,\n",
       " 'n_estimators': 500,\n",
       " 'oob_score': False}"
      ]
     },
     "execution_count": 121,
     "metadata": {},
     "output_type": "execute_result"
    }
   ],
   "source": [
    "rf_search.best_params_"
   ]
  },
  {
   "cell_type": "code",
   "execution_count": 122,
   "id": "35f3d03c",
   "metadata": {},
   "outputs": [],
   "source": [
    "X_features, y_target = create_features_target()\n",
    "X_oversample, y_oversample = perform_over_sampling(X_features, y_target)"
   ]
  },
  {
   "cell_type": "code",
   "execution_count": 123,
   "id": "4d2efb63",
   "metadata": {},
   "outputs": [],
   "source": [
    "X_train, X_test, y_train, y_test = train_test_split(X_oversample, y_oversample, random_state=42, test_size=0.2, stratify=y_oversample)"
   ]
  },
  {
   "cell_type": "markdown",
   "id": "41c3ee29",
   "metadata": {},
   "source": [
    "#### Max Depth"
   ]
  },
  {
   "cell_type": "code",
   "execution_count": 126,
   "id": "efe7be40",
   "metadata": {},
   "outputs": [],
   "source": [
    "max_depth_range = [None, 1, 2, 3, 4, 5, 6]\n",
    "acc_score = []\n",
    "std_val = []\n",
    "\n",
    "for i in max_depth_range:\n",
    "    rf_model1 = RandomForestClassifier(max_depth= i,\n",
    "                                   max_leaf_nodes= None,\n",
    "                                   min_samples_split= 3,\n",
    "                                   n_estimators= 500,\n",
    "                                   oob_score= False,\n",
    "                                   random_state=42,\n",
    "                                   n_jobs=-1)\n",
    "    scores1 = cross_val_score(rf_model1, X_oversample, y_oversample, scoring='accuracy', cv=5, n_jobs=-1)\n",
    "    #print(f\"Mean acc with std : {np.mean(scores1):.4f} + {np.std(scores1):.4f}\")\n",
    "    acc_score.append(np.round(np.mean(scores1), decimals=4))\n",
    "    std_val.append(np.round(np.std(scores1), decimals=4))"
   ]
  },
  {
   "cell_type": "code",
   "execution_count": 157,
   "id": "8ffdd382",
   "metadata": {},
   "outputs": [
    {
     "data": {
      "text/plain": [
       "Text(0, 0.5, 'Accuracy score')"
      ]
     },
     "execution_count": 157,
     "metadata": {},
     "output_type": "execute_result"
    },
    {
     "data": {
      "image/png": "[encoded data removed]",
      "text/plain": [
       "<Figure size 900x500 with 1 Axes>"
      ]
     },
     "metadata": {},
     "output_type": "display_data"
    }
   ],
   "source": [
    "max_depth_plot_range = [0, 1, 2, 3, 4, 5, 6]\n",
    "lower = [acc_score[i] - std_val[i] for i in range(len(acc_score))]\n",
    "upper = [acc_score[i] + std_val[i] for i in range(len(acc_score))]\n",
    "\n",
    "sns.set_style(\"darkgrid\", {\"grid.color\": \".6\", \"grid.linestyle\": \":\"})\n",
    "dataset1 = pd.DataFrame({\"mean\":acc_score, \"lower\":lower, \"upper\":upper, \"val_range\":max_depth_plot_range})\n",
    "fig, ax = plt.subplots(figsize=(9,5))\n",
    "ax = sns.lineplot(data=dataset1, x=\"val_range\", y=\"mean\")\n",
    "ax.fill_between(dataset1.val_range, dataset1.lower, dataset1.upper, alpha=0.2)\n",
    "ax.set_xlabel(\"max_depth values\")\n",
    "ax.set_ylabel(\"Accuracy score\")\n",
    "\n",
    "\n",
    "ax.set_xlabel(\"max_depth values\")\n",
    "ax.set_ylabel(\"Accuracy score\")"
   ]
  },
  {
   "cell_type": "markdown",
   "id": "c1694757",
   "metadata": {},
   "source": [
    "#### Max leaf nodes"
   ]
  },
  {
   "cell_type": "code",
   "execution_count": 314,
   "id": "8d586e26",
   "metadata": {},
   "outputs": [],
   "source": [
    "max_leaf_nodes = [None, 2, 3, 4, 5, 6]\n",
    "\n",
    "acc_score_2 = []\n",
    "std_val_2 = []\n",
    "\n",
    "for i in max_leaf_nodes:\n",
    "    rf_model1 = RandomForestClassifier(max_depth= None,\n",
    "                                   max_leaf_nodes= i,\n",
    "                                   min_samples_split= 3,\n",
    "                                   n_estimators= 500,\n",
    "                                   oob_score= False,\n",
    "                                   random_state=42,\n",
    "                                   n_jobs=-1)\n",
    "    scores1 = cross_val_score(rf_model1, X_oversample, y_oversample, scoring='accuracy', cv=5, n_jobs=-1)\n",
    "    #print(f\"Mean acc with std : {np.mean(scores1):.4f} + {np.std(scores1):.4f}\")\n",
    "    acc_score_2.append(np.round(np.mean(scores1), decimals=4))\n",
    "    std_val_2.append(np.round(np.std(scores1), decimals=4))"
   ]
  },
  {
   "cell_type": "code",
   "execution_count": 316,
   "id": "5d625df9",
   "metadata": {},
   "outputs": [
    {
     "data": {
      "image/png": "[encoded data removed]",
      "text/plain": [
       "<Figure size 900x500 with 1 Axes>"
      ]
     },
     "metadata": {},
     "output_type": "display_data"
    }
   ],
   "source": [
    "max_leaf_nodes_plot = [0, 2, 3, 4, 5, 6]\n",
    "lower = [acc_score_2[i] - std_val_2[i] for i in range(len(acc_score_2))]\n",
    "upper = [acc_score_2[i] + std_val_2[i] for i in range(len(acc_score_2))]\n",
    "\n",
    "sns.set_style(\"darkgrid\", {\"grid.color\": \".6\", \"grid.linestyle\": \":\"})\n",
    "dataset1 = pd.DataFrame({\"mean\":acc_score_2, \"lower\":lower, \"upper\":upper, \"val_range\":max_leaf_nodes_plot})\n",
    "fig, ax = plt.subplots(figsize=(9,5))\n",
    "ax = sns.lineplot(data=dataset1, x=\"val_range\", y=\"mean\")\n",
    "ax.fill_between(dataset1.val_range, dataset1.lower, dataset1.upper, alpha=0.2)\n",
    "ax.set_xlabel(\"max_leaf_nodes values\")\n",
    "ax.set_ylabel(\"Accuracy score\")\n",
    "\n",
    "\n",
    "ax.set_xlabel(\"max_leaf_nodes values\")\n",
    "ax.set_ylabel(\"Accuracy score\")\n",
    "\n",
    "plt.show()"
   ]
  },
  {
   "cell_type": "markdown",
   "id": "409be4e3",
   "metadata": {},
   "source": [
    "#### Min_Samples_Split"
   ]
  },
  {
   "cell_type": "code",
   "execution_count": 164,
   "id": "b43f80cf",
   "metadata": {},
   "outputs": [],
   "source": [
    "min_samples_split = [1, 2, 3, 4, 5, 6]\n",
    "acc_score_3 = []\n",
    "std_val_3 = []\n",
    "\n",
    "for i in min_samples_split:\n",
    "    rf_model1 = RandomForestClassifier(max_depth= None,\n",
    "                                   max_leaf_nodes= None,\n",
    "                                   min_samples_split= i,\n",
    "                                   n_estimators= 500,\n",
    "                                   oob_score= False,\n",
    "                                   random_state=42,\n",
    "                                   n_jobs=-1)\n",
    "    scores1 = cross_val_score(rf_model1, X_oversample, y_oversample, scoring='accuracy', cv=5, n_jobs=-1)\n",
    "    #print(f\"Mean acc with std : {np.mean(scores1):.4f} + {np.std(scores1):.4f}\")\n",
    "    acc_score_3.append(np.round(np.mean(scores1), decimals=4))\n",
    "    std_val_3.append(np.round(np.std(scores1), decimals=4))"
   ]
  },
  {
   "cell_type": "code",
   "execution_count": 165,
   "id": "e3dd6f03",
   "metadata": {},
   "outputs": [
    {
     "data": {
      "image/png": "[encoded data removed]",
      "text/plain": [
       "<Figure size 900x500 with 1 Axes>"
      ]
     },
     "metadata": {},
     "output_type": "display_data"
    }
   ],
   "source": [
    "min_samples_split_plot = [1, 2, 3, 4, 5, 6]\n",
    "lower = [acc_score_3[i] - std_val_3[i] for i in range(len(acc_score_3))]\n",
    "upper = [acc_score_3[i] + std_val_3[i] for i in range(len(acc_score_3))]\n",
    "\n",
    "sns.set_style(\"darkgrid\", {\"grid.color\": \".6\", \"grid.linestyle\": \":\"})\n",
    "dataset1 = pd.DataFrame({\"mean\":acc_score_3, \"lower\":lower, \"upper\":upper, \"val_range\":min_samples_split_plot})\n",
    "fig, ax = plt.subplots(figsize=(9,5))\n",
    "ax = sns.lineplot(data=dataset1, x=\"val_range\", y=\"mean\")\n",
    "ax.fill_between(dataset1.val_range, dataset1.lower, dataset1.upper, alpha=0.2)\n",
    "ax.set_xlabel(\"min_samples_split values\")\n",
    "ax.set_ylabel(\"Accuracy score\")\n",
    "\n",
    "\n",
    "ax.set_xlabel(\"min_samples_split values\")\n",
    "ax.set_ylabel(\"Accuracy score\")\n",
    "\n",
    "plt.show()"
   ]
  },
  {
   "cell_type": "markdown",
   "id": "0e6b87bc",
   "metadata": {},
   "source": [
    "#### N_estimators"
   ]
  },
  {
   "cell_type": "code",
   "execution_count": 166,
   "id": "f7b16f39",
   "metadata": {},
   "outputs": [],
   "source": [
    "n_estimators = [100, 200, 300, 400, 500]\n",
    "acc_score_4 = []\n",
    "std_val_4 = []\n",
    "\n",
    "for i in n_estimators:\n",
    "    rf_model1 = RandomForestClassifier(max_depth= None,\n",
    "                                   max_leaf_nodes= None,\n",
    "                                   min_samples_split= 3,\n",
    "                                   n_estimators= i,\n",
    "                                   oob_score= False,\n",
    "                                   random_state=42,\n",
    "                                   n_jobs=-1)\n",
    "    scores1 = cross_val_score(rf_model1, X_oversample, y_oversample, scoring='accuracy', cv=5, n_jobs=-1)\n",
    "    #print(f\"Mean acc with std : {np.mean(scores1):.4f} + {np.std(scores1):.4f}\")\n",
    "    acc_score_4.append(np.round(np.mean(scores1), decimals=4))\n",
    "    std_val_4.append(np.round(np.std(scores1), decimals=4))"
   ]
  },
  {
   "cell_type": "code",
   "execution_count": 167,
   "id": "154aeb3e",
   "metadata": {},
   "outputs": [
    {
     "data": {
      "image/png": "[encoded data removed]",
      "text/plain": [
       "<Figure size 900x500 with 1 Axes>"
      ]
     },
     "metadata": {},
     "output_type": "display_data"
    }
   ],
   "source": [
    "n_estimators = [100, 200, 300, 400, 500]\n",
    "lower = [acc_score_4[i] - std_val_4[i] for i in range(len(acc_score_4))]\n",
    "upper = [acc_score_4[i] + std_val_4[i] for i in range(len(acc_score_4))]\n",
    "\n",
    "sns.set_style(\"darkgrid\", {\"grid.color\": \".6\", \"grid.linestyle\": \":\"})\n",
    "dataset1 = pd.DataFrame({\"mean\":acc_score_4, \"lower\":lower, \"upper\":upper, \"val_range\":n_estimators})\n",
    "fig, ax = plt.subplots(figsize=(9,5))\n",
    "ax = sns.lineplot(data=dataset1, x=\"val_range\", y=\"mean\")\n",
    "ax.fill_between(dataset1.val_range, dataset1.lower, dataset1.upper, alpha=0.2)\n",
    "ax.set_xlabel(\"n_estimators values\")\n",
    "ax.set_ylabel(\"Accuracy score\")\n",
    "\n",
    "\n",
    "ax.set_xlabel(\"n_estimators values\")\n",
    "ax.set_ylabel(\"Accuracy score\")\n",
    "\n",
    "plt.show()"
   ]
  },
  {
   "cell_type": "code",
   "execution_count": null,
   "id": "7a5cafb4",
   "metadata": {},
   "outputs": [],
   "source": []
  },
  {
   "cell_type": "code",
   "execution_count": null,
   "id": "e1b8a8cb",
   "metadata": {},
   "outputs": [],
   "source": []
  },
  {
   "cell_type": "markdown",
   "id": "3a09e919",
   "metadata": {},
   "source": [
    "### Error Analysis"
   ]
  },
  {
   "cell_type": "code",
   "execution_count": 173,
   "id": "a09b7844",
   "metadata": {},
   "outputs": [
    {
     "data": {
      "text/plain": [
       "{'Benign Traffic': 0,\n",
       " 'Slow HTTP GET': 1,\n",
       " 'Slow Read': 2,\n",
       " 'Slow Post': 3,\n",
       " 'GoldenEye': 4,\n",
       " 'Hulk': 5}"
      ]
     },
     "execution_count": 173,
     "metadata": {},
     "output_type": "execute_result"
    }
   ],
   "source": [
    "CATEGORY_MAP\n",
    "# 1, 3, 4, 0, 5, 2"
   ]
  },
  {
   "cell_type": "code",
   "execution_count": 309,
   "id": "10ff62e5",
   "metadata": {},
   "outputs": [
    {
     "data": {
      "text/plain": [
       "<sklearn.metrics._plot.confusion_matrix.ConfusionMatrixDisplay at 0x1f3bc92b160>"
      ]
     },
     "execution_count": 309,
     "metadata": {},
     "output_type": "execute_result"
    },
    {
     "data": {
      "image/png": "[encoded data removed]",
      "text/plain": [
       "<Figure size 640x480 with 2 Axes>"
      ]
     },
     "metadata": {},
     "output_type": "display_data"
    }
   ],
   "source": [
    "sns.set_style(style='white')\n",
    "ConfusionMatrixDisplay.from_predictions(y_test, y_pred_rf_best, labels=y_oversample.unique(),\n",
    "                                        display_labels=['Slow HTTP GET', 'Slow Post', 'GoldenEye', 'Benign Traffic', 'Hulk', 'Slow Read'],\n",
    "                                        xticks_rotation=\"vertical\")"
   ]
  },
  {
   "cell_type": "code",
   "execution_count": null,
   "id": "88f9fe32",
   "metadata": {},
   "outputs": [],
   "source": [
    "# First we did the experiment of the best model without performing and oversampling\n",
    "# While the accuracy was around 91% in classification report we observed that precision and recall\n",
    "# of Slow Read DDOS attack was 0.56 and 0.26 respectively. Since it only had 1049 records and accounted for barely\n",
    "# 2% of the data we decided to use SMOTE to perform oversampling and increased its records to 4000 which made its count almost\n",
    "# almost equal to Goldeneye ddos attack count. As a result the precision and recall for the same jumped to 0.83 and 0.66\n",
    "# respectively"
   ]
  },
  {
   "cell_type": "code",
   "execution_count": 207,
   "id": "9a69fbb9",
   "metadata": {},
   "outputs": [
    {
     "data": {
      "image/png": "[encoded data removed]",
      "text/plain": [
       "<Figure size 640x480 with 1 Axes>"
      ]
     },
     "metadata": {},
     "output_type": "display_data"
    }
   ],
   "source": [
    "vals, idx = list(df_final['CATEGORY'].value_counts().values), list(df_final['CATEGORY'].value_counts().index)\n",
    "explode = (0.05, 0.05, 0.05, 0.05, 0.05, 0.05)\n",
    "pie = plt.pie(data=pd.DataFrame(data=vals, index=idx, columns=[\"Count\"]),\n",
    "              x='Count', autopct='%1.0f%%', explode=explode)\n",
    "\n",
    "plt.legend(pie[0],idx, bbox_to_anchor=(0.7, 0.5), loc=\"center right\", fontsize=10, \n",
    "           bbox_transform=plt.gcf().transFigure)\n",
    "plt.subplots_adjust(left=0.0, bottom=0.1, right=0.45)"
   ]
  },
  {
   "cell_type": "code",
   "execution_count": null,
   "id": "c8c3343c",
   "metadata": {},
   "outputs": [],
   "source": [
    "# As a result of the above experiment we found some small changes in precision and recall of Goldeneye and HULK\n",
    "# For Goldeneye, precision remained same but recall increased from 0.81 to 0.83. Similarly for HULK precision and recall\n",
    "# changed from 0.77 and 0.87 to 0.74 and 0.86.  "
   ]
  },
  {
   "cell_type": "code",
   "execution_count": 281,
   "id": "26d7d5ab",
   "metadata": {},
   "outputs": [],
   "source": [
    "# HULK confused with Slow Read\n",
    "idx_pred_hulk = np.where(y_pred_rf_best == 5)\n",
    "idx_original_read = np.where(y_test == 2)"
   ]
  },
  {
   "cell_type": "code",
   "execution_count": 282,
   "id": "6d894588",
   "metadata": {},
   "outputs": [],
   "source": [
    "def get_key(my_dict, val):\n",
    "    for key, value in my_dict.items():\n",
    "        if val == value:\n",
    "            return key\n",
    "    return \"key doesn't exist\""
   ]
  },
  {
   "cell_type": "code",
   "execution_count": 283,
   "id": "6ac3909b",
   "metadata": {},
   "outputs": [
    {
     "data": {
      "text/html": [
       "<div>\n",
       "<style scoped>\n",
       "    .dataframe tbody tr th:only-of-type {\n",
       "        vertical-align: middle;\n",
       "    }\n",
       "\n",
       "    .dataframe tbody tr th {\n",
       "        vertical-align: top;\n",
       "    }\n",
       "\n",
       "    .dataframe thead th {\n",
       "        text-align: right;\n",
       "    }\n",
       "</style>\n",
       "<table border=\"1\" class=\"dataframe\">\n",
       "  <thead>\n",
       "    <tr style=\"text-align: right;\">\n",
       "      <th></th>\n",
       "      <th>Packets</th>\n",
       "      <th>Bytes</th>\n",
       "      <th>Packets_A-to-B(TX_pkts)</th>\n",
       "      <th>Bytes_A-to-B(TX_bytes)</th>\n",
       "      <th>Packets_B-to-A(RX_pkts)</th>\n",
       "      <th>Bytes_B-to-A(RX_bytes)</th>\n",
       "      <th>Bits/s A-to-B (TX_bits/s)</th>\n",
       "      <th>Bits/s B-to-A (RX_bits/s)</th>\n",
       "      <th>tot_kbps</th>\n",
       "      <th>Pktrate</th>\n",
       "      <th>Flow Duration</th>\n",
       "      <th>Idle Timeout</th>\n",
       "      <th>Hard Timeout</th>\n",
       "      <th>Pktrate nsec</th>\n",
       "      <th>Byte nsec</th>\n",
       "      <th>flags</th>\n",
       "    </tr>\n",
       "  </thead>\n",
       "  <tbody>\n",
       "    <tr>\n",
       "      <th>28442</th>\n",
       "      <td>0</td>\n",
       "      <td>0</td>\n",
       "      <td>0</td>\n",
       "      <td>4253</td>\n",
       "      <td>0</td>\n",
       "      <td>215596881</td>\n",
       "      <td>0</td>\n",
       "      <td>6138.0</td>\n",
       "      <td>0.0</td>\n",
       "      <td>0.0</td>\n",
       "      <td>6</td>\n",
       "      <td>20</td>\n",
       "      <td>100</td>\n",
       "      <td>0.0</td>\n",
       "      <td>0.0</td>\n",
       "      <td>22.0</td>\n",
       "    </tr>\n",
       "  </tbody>\n",
       "</table>\n",
       "</div>"
      ],
      "text/plain": [
       "       Packets  Bytes  Packets_A-to-B(TX_pkts)  Bytes_A-to-B(TX_bytes)  \\\n",
       "28442        0      0                        0                    4253   \n",
       "\n",
       "       Packets_B-to-A(RX_pkts)  Bytes_B-to-A(RX_bytes)  \\\n",
       "28442                        0               215596881   \n",
       "\n",
       "       Bits/s A-to-B (TX_bits/s)  Bits/s B-to-A (RX_bits/s)  tot_kbps  \\\n",
       "28442                          0                     6138.0       0.0   \n",
       "\n",
       "       Pktrate  Flow Duration  Idle Timeout  Hard Timeout  Pktrate nsec  \\\n",
       "28442      0.0              6            20           100           0.0   \n",
       "\n",
       "       Byte nsec  flags  \n",
       "28442        0.0   22.0  "
      ]
     },
     "metadata": {},
     "output_type": "display_data"
    },
    {
     "name": "stdout",
     "output_type": "stream",
     "text": [
      " test value original : Slow Read\n",
      " predicted value : Hulk\n"
     ]
    },
    {
     "data": {
      "text/html": [
       "<div>\n",
       "<style scoped>\n",
       "    .dataframe tbody tr th:only-of-type {\n",
       "        vertical-align: middle;\n",
       "    }\n",
       "\n",
       "    .dataframe tbody tr th {\n",
       "        vertical-align: top;\n",
       "    }\n",
       "\n",
       "    .dataframe thead th {\n",
       "        text-align: right;\n",
       "    }\n",
       "</style>\n",
       "<table border=\"1\" class=\"dataframe\">\n",
       "  <thead>\n",
       "    <tr style=\"text-align: right;\">\n",
       "      <th></th>\n",
       "      <th>Packets</th>\n",
       "      <th>Bytes</th>\n",
       "      <th>Packets_A-to-B(TX_pkts)</th>\n",
       "      <th>Bytes_A-to-B(TX_bytes)</th>\n",
       "      <th>Packets_B-to-A(RX_pkts)</th>\n",
       "      <th>Bytes_B-to-A(RX_bytes)</th>\n",
       "      <th>Bits/s A-to-B (TX_bits/s)</th>\n",
       "      <th>Bits/s B-to-A (RX_bits/s)</th>\n",
       "      <th>tot_kbps</th>\n",
       "      <th>Pktrate</th>\n",
       "      <th>Flow Duration</th>\n",
       "      <th>Idle Timeout</th>\n",
       "      <th>Hard Timeout</th>\n",
       "      <th>Pktrate nsec</th>\n",
       "      <th>Byte nsec</th>\n",
       "      <th>flags</th>\n",
       "    </tr>\n",
       "  </thead>\n",
       "  <tbody>\n",
       "    <tr>\n",
       "      <th>31210</th>\n",
       "      <td>0</td>\n",
       "      <td>0</td>\n",
       "      <td>0</td>\n",
       "      <td>4709</td>\n",
       "      <td>0</td>\n",
       "      <td>1172</td>\n",
       "      <td>0</td>\n",
       "      <td>0.0</td>\n",
       "      <td>0.0</td>\n",
       "      <td>0.0</td>\n",
       "      <td>7</td>\n",
       "      <td>20</td>\n",
       "      <td>100</td>\n",
       "      <td>0.0</td>\n",
       "      <td>0.0</td>\n",
       "      <td>26.0</td>\n",
       "    </tr>\n",
       "  </tbody>\n",
       "</table>\n",
       "</div>"
      ],
      "text/plain": [
       "       Packets  Bytes  Packets_A-to-B(TX_pkts)  Bytes_A-to-B(TX_bytes)  \\\n",
       "31210        0      0                        0                    4709   \n",
       "\n",
       "       Packets_B-to-A(RX_pkts)  Bytes_B-to-A(RX_bytes)  \\\n",
       "31210                        0                    1172   \n",
       "\n",
       "       Bits/s A-to-B (TX_bits/s)  Bits/s B-to-A (RX_bits/s)  tot_kbps  \\\n",
       "31210                          0                        0.0       0.0   \n",
       "\n",
       "       Pktrate  Flow Duration  Idle Timeout  Hard Timeout  Pktrate nsec  \\\n",
       "31210      0.0              7            20           100           0.0   \n",
       "\n",
       "       Byte nsec  flags  \n",
       "31210        0.0   26.0  "
      ]
     },
     "metadata": {},
     "output_type": "display_data"
    },
    {
     "name": "stdout",
     "output_type": "stream",
     "text": [
      " test value original : Slow Read\n",
      " predicted value : Hulk\n"
     ]
    },
    {
     "data": {
      "text/html": [
       "<div>\n",
       "<style scoped>\n",
       "    .dataframe tbody tr th:only-of-type {\n",
       "        vertical-align: middle;\n",
       "    }\n",
       "\n",
       "    .dataframe tbody tr th {\n",
       "        vertical-align: top;\n",
       "    }\n",
       "\n",
       "    .dataframe thead th {\n",
       "        text-align: right;\n",
       "    }\n",
       "</style>\n",
       "<table border=\"1\" class=\"dataframe\">\n",
       "  <thead>\n",
       "    <tr style=\"text-align: right;\">\n",
       "      <th></th>\n",
       "      <th>Packets</th>\n",
       "      <th>Bytes</th>\n",
       "      <th>Packets_A-to-B(TX_pkts)</th>\n",
       "      <th>Bytes_A-to-B(TX_bytes)</th>\n",
       "      <th>Packets_B-to-A(RX_pkts)</th>\n",
       "      <th>Bytes_B-to-A(RX_bytes)</th>\n",
       "      <th>Bits/s A-to-B (TX_bits/s)</th>\n",
       "      <th>Bits/s B-to-A (RX_bits/s)</th>\n",
       "      <th>tot_kbps</th>\n",
       "      <th>Pktrate</th>\n",
       "      <th>Flow Duration</th>\n",
       "      <th>Idle Timeout</th>\n",
       "      <th>Hard Timeout</th>\n",
       "      <th>Pktrate nsec</th>\n",
       "      <th>Byte nsec</th>\n",
       "      <th>flags</th>\n",
       "    </tr>\n",
       "  </thead>\n",
       "  <tbody>\n",
       "    <tr>\n",
       "      <th>55839</th>\n",
       "      <td>0</td>\n",
       "      <td>0</td>\n",
       "      <td>0</td>\n",
       "      <td>7918</td>\n",
       "      <td>0</td>\n",
       "      <td>1514</td>\n",
       "      <td>0</td>\n",
       "      <td>0.0</td>\n",
       "      <td>0.0</td>\n",
       "      <td>0.0</td>\n",
       "      <td>13</td>\n",
       "      <td>20</td>\n",
       "      <td>100</td>\n",
       "      <td>0.0</td>\n",
       "      <td>0.0</td>\n",
       "      <td>26.839228</td>\n",
       "    </tr>\n",
       "  </tbody>\n",
       "</table>\n",
       "</div>"
      ],
      "text/plain": [
       "       Packets  Bytes  Packets_A-to-B(TX_pkts)  Bytes_A-to-B(TX_bytes)  \\\n",
       "55839        0      0                        0                    7918   \n",
       "\n",
       "       Packets_B-to-A(RX_pkts)  Bytes_B-to-A(RX_bytes)  \\\n",
       "55839                        0                    1514   \n",
       "\n",
       "       Bits/s A-to-B (TX_bits/s)  Bits/s B-to-A (RX_bits/s)  tot_kbps  \\\n",
       "55839                          0                        0.0       0.0   \n",
       "\n",
       "       Pktrate  Flow Duration  Idle Timeout  Hard Timeout  Pktrate nsec  \\\n",
       "55839      0.0             13            20           100           0.0   \n",
       "\n",
       "       Byte nsec      flags  \n",
       "55839        0.0  26.839228  "
      ]
     },
     "metadata": {},
     "output_type": "display_data"
    },
    {
     "name": "stdout",
     "output_type": "stream",
     "text": [
      " test value original : Slow Read\n",
      " predicted value : Hulk\n"
     ]
    }
   ],
   "source": [
    "for idx in list(np.intersect1d(idx_pred_hulk[0], idx_original_read[0], assume_unique=True)[:3]):\n",
    "    display(X_test.iloc[[idx]])\n",
    "    print(f\" test value original : {get_key(CATEGORY_MAP, y_test.iloc[idx])}\")\n",
    "    print(f\" predicted value : {get_key(CATEGORY_MAP, y_pred_rf_best[idx])}\")"
   ]
  },
  {
   "cell_type": "code",
   "execution_count": 285,
   "id": "cd00bf22",
   "metadata": {},
   "outputs": [],
   "source": [
    "# HULK confused with Slow Post\n",
    "# idx_pred_hulk = np.where(y_pred_rf_best == 5)\n",
    "idx_original_post = np.where(y_test == 3)"
   ]
  },
  {
   "cell_type": "code",
   "execution_count": 286,
   "id": "f0da04b6",
   "metadata": {},
   "outputs": [
    {
     "data": {
      "text/html": [
       "<div>\n",
       "<style scoped>\n",
       "    .dataframe tbody tr th:only-of-type {\n",
       "        vertical-align: middle;\n",
       "    }\n",
       "\n",
       "    .dataframe tbody tr th {\n",
       "        vertical-align: top;\n",
       "    }\n",
       "\n",
       "    .dataframe thead th {\n",
       "        text-align: right;\n",
       "    }\n",
       "</style>\n",
       "<table border=\"1\" class=\"dataframe\">\n",
       "  <thead>\n",
       "    <tr style=\"text-align: right;\">\n",
       "      <th></th>\n",
       "      <th>Packets</th>\n",
       "      <th>Bytes</th>\n",
       "      <th>Packets_A-to-B(TX_pkts)</th>\n",
       "      <th>Bytes_A-to-B(TX_bytes)</th>\n",
       "      <th>Packets_B-to-A(RX_pkts)</th>\n",
       "      <th>Bytes_B-to-A(RX_bytes)</th>\n",
       "      <th>Bits/s A-to-B (TX_bits/s)</th>\n",
       "      <th>Bits/s B-to-A (RX_bits/s)</th>\n",
       "      <th>tot_kbps</th>\n",
       "      <th>Pktrate</th>\n",
       "      <th>Flow Duration</th>\n",
       "      <th>Idle Timeout</th>\n",
       "      <th>Hard Timeout</th>\n",
       "      <th>Pktrate nsec</th>\n",
       "      <th>Byte nsec</th>\n",
       "      <th>flags</th>\n",
       "    </tr>\n",
       "  </thead>\n",
       "  <tbody>\n",
       "    <tr>\n",
       "      <th>21073</th>\n",
       "      <td>0</td>\n",
       "      <td>0</td>\n",
       "      <td>0</td>\n",
       "      <td>3733631</td>\n",
       "      <td>0</td>\n",
       "      <td>1972979</td>\n",
       "      <td>266</td>\n",
       "      <td>143.0</td>\n",
       "      <td>0.0</td>\n",
       "      <td>0.0</td>\n",
       "      <td>13</td>\n",
       "      <td>20</td>\n",
       "      <td>100</td>\n",
       "      <td>0.0</td>\n",
       "      <td>0.0</td>\n",
       "      <td>34.0</td>\n",
       "    </tr>\n",
       "  </tbody>\n",
       "</table>\n",
       "</div>"
      ],
      "text/plain": [
       "       Packets  Bytes  Packets_A-to-B(TX_pkts)  Bytes_A-to-B(TX_bytes)  \\\n",
       "21073        0      0                        0                 3733631   \n",
       "\n",
       "       Packets_B-to-A(RX_pkts)  Bytes_B-to-A(RX_bytes)  \\\n",
       "21073                        0                 1972979   \n",
       "\n",
       "       Bits/s A-to-B (TX_bits/s)  Bits/s B-to-A (RX_bits/s)  tot_kbps  \\\n",
       "21073                        266                      143.0       0.0   \n",
       "\n",
       "       Pktrate  Flow Duration  Idle Timeout  Hard Timeout  Pktrate nsec  \\\n",
       "21073      0.0             13            20           100           0.0   \n",
       "\n",
       "       Byte nsec  flags  \n",
       "21073        0.0   34.0  "
      ]
     },
     "metadata": {},
     "output_type": "display_data"
    },
    {
     "name": "stdout",
     "output_type": "stream",
     "text": [
      " test value original : Slow Post\n",
      " predicted value : Hulk\n"
     ]
    },
    {
     "data": {
      "text/html": [
       "<div>\n",
       "<style scoped>\n",
       "    .dataframe tbody tr th:only-of-type {\n",
       "        vertical-align: middle;\n",
       "    }\n",
       "\n",
       "    .dataframe tbody tr th {\n",
       "        vertical-align: top;\n",
       "    }\n",
       "\n",
       "    .dataframe thead th {\n",
       "        text-align: right;\n",
       "    }\n",
       "</style>\n",
       "<table border=\"1\" class=\"dataframe\">\n",
       "  <thead>\n",
       "    <tr style=\"text-align: right;\">\n",
       "      <th></th>\n",
       "      <th>Packets</th>\n",
       "      <th>Bytes</th>\n",
       "      <th>Packets_A-to-B(TX_pkts)</th>\n",
       "      <th>Bytes_A-to-B(TX_bytes)</th>\n",
       "      <th>Packets_B-to-A(RX_pkts)</th>\n",
       "      <th>Bytes_B-to-A(RX_bytes)</th>\n",
       "      <th>Bits/s A-to-B (TX_bits/s)</th>\n",
       "      <th>Bits/s B-to-A (RX_bits/s)</th>\n",
       "      <th>tot_kbps</th>\n",
       "      <th>Pktrate</th>\n",
       "      <th>Flow Duration</th>\n",
       "      <th>Idle Timeout</th>\n",
       "      <th>Hard Timeout</th>\n",
       "      <th>Pktrate nsec</th>\n",
       "      <th>Byte nsec</th>\n",
       "      <th>flags</th>\n",
       "    </tr>\n",
       "  </thead>\n",
       "  <tbody>\n",
       "    <tr>\n",
       "      <th>52528</th>\n",
       "      <td>0</td>\n",
       "      <td>0</td>\n",
       "      <td>0</td>\n",
       "      <td>4094</td>\n",
       "      <td>0</td>\n",
       "      <td>3590</td>\n",
       "      <td>0</td>\n",
       "      <td>0.0</td>\n",
       "      <td>0.0</td>\n",
       "      <td>0.0</td>\n",
       "      <td>11</td>\n",
       "      <td>20</td>\n",
       "      <td>100</td>\n",
       "      <td>0.0</td>\n",
       "      <td>0.0</td>\n",
       "      <td>33.0</td>\n",
       "    </tr>\n",
       "  </tbody>\n",
       "</table>\n",
       "</div>"
      ],
      "text/plain": [
       "       Packets  Bytes  Packets_A-to-B(TX_pkts)  Bytes_A-to-B(TX_bytes)  \\\n",
       "52528        0      0                        0                    4094   \n",
       "\n",
       "       Packets_B-to-A(RX_pkts)  Bytes_B-to-A(RX_bytes)  \\\n",
       "52528                        0                    3590   \n",
       "\n",
       "       Bits/s A-to-B (TX_bits/s)  Bits/s B-to-A (RX_bits/s)  tot_kbps  \\\n",
       "52528                          0                        0.0       0.0   \n",
       "\n",
       "       Pktrate  Flow Duration  Idle Timeout  Hard Timeout  Pktrate nsec  \\\n",
       "52528      0.0             11            20           100           0.0   \n",
       "\n",
       "       Byte nsec  flags  \n",
       "52528        0.0   33.0  "
      ]
     },
     "metadata": {},
     "output_type": "display_data"
    },
    {
     "name": "stdout",
     "output_type": "stream",
     "text": [
      " test value original : Slow Post\n",
      " predicted value : Hulk\n"
     ]
    },
    {
     "data": {
      "text/html": [
       "<div>\n",
       "<style scoped>\n",
       "    .dataframe tbody tr th:only-of-type {\n",
       "        vertical-align: middle;\n",
       "    }\n",
       "\n",
       "    .dataframe tbody tr th {\n",
       "        vertical-align: top;\n",
       "    }\n",
       "\n",
       "    .dataframe thead th {\n",
       "        text-align: right;\n",
       "    }\n",
       "</style>\n",
       "<table border=\"1\" class=\"dataframe\">\n",
       "  <thead>\n",
       "    <tr style=\"text-align: right;\">\n",
       "      <th></th>\n",
       "      <th>Packets</th>\n",
       "      <th>Bytes</th>\n",
       "      <th>Packets_A-to-B(TX_pkts)</th>\n",
       "      <th>Bytes_A-to-B(TX_bytes)</th>\n",
       "      <th>Packets_B-to-A(RX_pkts)</th>\n",
       "      <th>Bytes_B-to-A(RX_bytes)</th>\n",
       "      <th>Bits/s A-to-B (TX_bits/s)</th>\n",
       "      <th>Bits/s B-to-A (RX_bits/s)</th>\n",
       "      <th>tot_kbps</th>\n",
       "      <th>Pktrate</th>\n",
       "      <th>Flow Duration</th>\n",
       "      <th>Idle Timeout</th>\n",
       "      <th>Hard Timeout</th>\n",
       "      <th>Pktrate nsec</th>\n",
       "      <th>Byte nsec</th>\n",
       "      <th>flags</th>\n",
       "    </tr>\n",
       "  </thead>\n",
       "  <tbody>\n",
       "    <tr>\n",
       "      <th>46621</th>\n",
       "      <td>0</td>\n",
       "      <td>0</td>\n",
       "      <td>0</td>\n",
       "      <td>6832754</td>\n",
       "      <td>0</td>\n",
       "      <td>6341872</td>\n",
       "      <td>130</td>\n",
       "      <td>121.0</td>\n",
       "      <td>0.0</td>\n",
       "      <td>0.0</td>\n",
       "      <td>5</td>\n",
       "      <td>20</td>\n",
       "      <td>100</td>\n",
       "      <td>0.0</td>\n",
       "      <td>0.0</td>\n",
       "      <td>21.0</td>\n",
       "    </tr>\n",
       "  </tbody>\n",
       "</table>\n",
       "</div>"
      ],
      "text/plain": [
       "       Packets  Bytes  Packets_A-to-B(TX_pkts)  Bytes_A-to-B(TX_bytes)  \\\n",
       "46621        0      0                        0                 6832754   \n",
       "\n",
       "       Packets_B-to-A(RX_pkts)  Bytes_B-to-A(RX_bytes)  \\\n",
       "46621                        0                 6341872   \n",
       "\n",
       "       Bits/s A-to-B (TX_bits/s)  Bits/s B-to-A (RX_bits/s)  tot_kbps  \\\n",
       "46621                        130                      121.0       0.0   \n",
       "\n",
       "       Pktrate  Flow Duration  Idle Timeout  Hard Timeout  Pktrate nsec  \\\n",
       "46621      0.0              5            20           100           0.0   \n",
       "\n",
       "       Byte nsec  flags  \n",
       "46621        0.0   21.0  "
      ]
     },
     "metadata": {},
     "output_type": "display_data"
    },
    {
     "name": "stdout",
     "output_type": "stream",
     "text": [
      " test value original : Slow Post\n",
      " predicted value : Hulk\n"
     ]
    }
   ],
   "source": [
    "for idx in list(np.intersect1d(idx_pred_hulk[0], idx_original_post[0], assume_unique=True)[:3]):\n",
    "    display(X_test.iloc[[idx]])\n",
    "    print(f\" test value original : {get_key(CATEGORY_MAP, y_test.iloc[idx])}\")\n",
    "    print(f\" predicted value : {get_key(CATEGORY_MAP, y_pred_rf_best[idx])}\")"
   ]
  },
  {
   "cell_type": "code",
   "execution_count": 310,
   "id": "ea3a5f78",
   "metadata": {},
   "outputs": [],
   "source": [
    "# HULK confused with Goldeneye\n",
    "idx_pred_hulk = np.where(y_pred_rf_best == 5)\n",
    "idx_original_goldeneye = np.where(y_test == 4)"
   ]
  },
  {
   "cell_type": "code",
   "execution_count": 311,
   "id": "544d1568",
   "metadata": {},
   "outputs": [
    {
     "data": {
      "text/html": [
       "<div>\n",
       "<style scoped>\n",
       "    .dataframe tbody tr th:only-of-type {\n",
       "        vertical-align: middle;\n",
       "    }\n",
       "\n",
       "    .dataframe tbody tr th {\n",
       "        vertical-align: top;\n",
       "    }\n",
       "\n",
       "    .dataframe thead th {\n",
       "        text-align: right;\n",
       "    }\n",
       "</style>\n",
       "<table border=\"1\" class=\"dataframe\">\n",
       "  <thead>\n",
       "    <tr style=\"text-align: right;\">\n",
       "      <th></th>\n",
       "      <th>Packets</th>\n",
       "      <th>Bytes</th>\n",
       "      <th>Packets_A-to-B(TX_pkts)</th>\n",
       "      <th>Bytes_A-to-B(TX_bytes)</th>\n",
       "      <th>Packets_B-to-A(RX_pkts)</th>\n",
       "      <th>Bytes_B-to-A(RX_bytes)</th>\n",
       "      <th>Bits/s A-to-B (TX_bits/s)</th>\n",
       "      <th>Bits/s B-to-A (RX_bits/s)</th>\n",
       "      <th>tot_kbps</th>\n",
       "      <th>Pktrate</th>\n",
       "      <th>Flow Duration</th>\n",
       "      <th>Idle Timeout</th>\n",
       "      <th>Hard Timeout</th>\n",
       "      <th>Pktrate nsec</th>\n",
       "      <th>Byte nsec</th>\n",
       "      <th>flags</th>\n",
       "    </tr>\n",
       "  </thead>\n",
       "  <tbody>\n",
       "    <tr>\n",
       "      <th>27926</th>\n",
       "      <td>0</td>\n",
       "      <td>0</td>\n",
       "      <td>0</td>\n",
       "      <td>69095</td>\n",
       "      <td>0</td>\n",
       "      <td>135525208</td>\n",
       "      <td>0</td>\n",
       "      <td>0.0</td>\n",
       "      <td>0.0</td>\n",
       "      <td>0.0</td>\n",
       "      <td>0</td>\n",
       "      <td>20</td>\n",
       "      <td>100</td>\n",
       "      <td>0.0</td>\n",
       "      <td>0.0</td>\n",
       "      <td>33.0</td>\n",
       "    </tr>\n",
       "  </tbody>\n",
       "</table>\n",
       "</div>"
      ],
      "text/plain": [
       "       Packets  Bytes  Packets_A-to-B(TX_pkts)  Bytes_A-to-B(TX_bytes)  \\\n",
       "27926        0      0                        0                   69095   \n",
       "\n",
       "       Packets_B-to-A(RX_pkts)  Bytes_B-to-A(RX_bytes)  \\\n",
       "27926                        0               135525208   \n",
       "\n",
       "       Bits/s A-to-B (TX_bits/s)  Bits/s B-to-A (RX_bits/s)  tot_kbps  \\\n",
       "27926                          0                        0.0       0.0   \n",
       "\n",
       "       Pktrate  Flow Duration  Idle Timeout  Hard Timeout  Pktrate nsec  \\\n",
       "27926      0.0              0            20           100           0.0   \n",
       "\n",
       "       Byte nsec  flags  \n",
       "27926        0.0   33.0  "
      ]
     },
     "metadata": {},
     "output_type": "display_data"
    },
    {
     "name": "stdout",
     "output_type": "stream",
     "text": [
      " test value original : GoldenEye\n",
      " predicted value : Hulk\n"
     ]
    },
    {
     "data": {
      "text/html": [
       "<div>\n",
       "<style scoped>\n",
       "    .dataframe tbody tr th:only-of-type {\n",
       "        vertical-align: middle;\n",
       "    }\n",
       "\n",
       "    .dataframe tbody tr th {\n",
       "        vertical-align: top;\n",
       "    }\n",
       "\n",
       "    .dataframe thead th {\n",
       "        text-align: right;\n",
       "    }\n",
       "</style>\n",
       "<table border=\"1\" class=\"dataframe\">\n",
       "  <thead>\n",
       "    <tr style=\"text-align: right;\">\n",
       "      <th></th>\n",
       "      <th>Packets</th>\n",
       "      <th>Bytes</th>\n",
       "      <th>Packets_A-to-B(TX_pkts)</th>\n",
       "      <th>Bytes_A-to-B(TX_bytes)</th>\n",
       "      <th>Packets_B-to-A(RX_pkts)</th>\n",
       "      <th>Bytes_B-to-A(RX_bytes)</th>\n",
       "      <th>Bits/s A-to-B (TX_bits/s)</th>\n",
       "      <th>Bits/s B-to-A (RX_bits/s)</th>\n",
       "      <th>tot_kbps</th>\n",
       "      <th>Pktrate</th>\n",
       "      <th>Flow Duration</th>\n",
       "      <th>Idle Timeout</th>\n",
       "      <th>Hard Timeout</th>\n",
       "      <th>Pktrate nsec</th>\n",
       "      <th>Byte nsec</th>\n",
       "      <th>flags</th>\n",
       "    </tr>\n",
       "  </thead>\n",
       "  <tbody>\n",
       "    <tr>\n",
       "      <th>6497</th>\n",
       "      <td>0</td>\n",
       "      <td>0</td>\n",
       "      <td>0</td>\n",
       "      <td>3309</td>\n",
       "      <td>0</td>\n",
       "      <td>1422</td>\n",
       "      <td>0</td>\n",
       "      <td>0.0</td>\n",
       "      <td>0.0</td>\n",
       "      <td>0.0</td>\n",
       "      <td>0</td>\n",
       "      <td>20</td>\n",
       "      <td>100</td>\n",
       "      <td>0.0</td>\n",
       "      <td>0.0</td>\n",
       "      <td>37.0</td>\n",
       "    </tr>\n",
       "  </tbody>\n",
       "</table>\n",
       "</div>"
      ],
      "text/plain": [
       "      Packets  Bytes  Packets_A-to-B(TX_pkts)  Bytes_A-to-B(TX_bytes)  \\\n",
       "6497        0      0                        0                    3309   \n",
       "\n",
       "      Packets_B-to-A(RX_pkts)  Bytes_B-to-A(RX_bytes)  \\\n",
       "6497                        0                    1422   \n",
       "\n",
       "      Bits/s A-to-B (TX_bits/s)  Bits/s B-to-A (RX_bits/s)  tot_kbps  Pktrate  \\\n",
       "6497                          0                        0.0       0.0      0.0   \n",
       "\n",
       "      Flow Duration  Idle Timeout  Hard Timeout  Pktrate nsec  Byte nsec  \\\n",
       "6497              0            20           100           0.0        0.0   \n",
       "\n",
       "      flags  \n",
       "6497   37.0  "
      ]
     },
     "metadata": {},
     "output_type": "display_data"
    },
    {
     "name": "stdout",
     "output_type": "stream",
     "text": [
      " test value original : GoldenEye\n",
      " predicted value : Hulk\n"
     ]
    },
    {
     "data": {
      "text/html": [
       "<div>\n",
       "<style scoped>\n",
       "    .dataframe tbody tr th:only-of-type {\n",
       "        vertical-align: middle;\n",
       "    }\n",
       "\n",
       "    .dataframe tbody tr th {\n",
       "        vertical-align: top;\n",
       "    }\n",
       "\n",
       "    .dataframe thead th {\n",
       "        text-align: right;\n",
       "    }\n",
       "</style>\n",
       "<table border=\"1\" class=\"dataframe\">\n",
       "  <thead>\n",
       "    <tr style=\"text-align: right;\">\n",
       "      <th></th>\n",
       "      <th>Packets</th>\n",
       "      <th>Bytes</th>\n",
       "      <th>Packets_A-to-B(TX_pkts)</th>\n",
       "      <th>Bytes_A-to-B(TX_bytes)</th>\n",
       "      <th>Packets_B-to-A(RX_pkts)</th>\n",
       "      <th>Bytes_B-to-A(RX_bytes)</th>\n",
       "      <th>Bits/s A-to-B (TX_bits/s)</th>\n",
       "      <th>Bits/s B-to-A (RX_bits/s)</th>\n",
       "      <th>tot_kbps</th>\n",
       "      <th>Pktrate</th>\n",
       "      <th>Flow Duration</th>\n",
       "      <th>Idle Timeout</th>\n",
       "      <th>Hard Timeout</th>\n",
       "      <th>Pktrate nsec</th>\n",
       "      <th>Byte nsec</th>\n",
       "      <th>flags</th>\n",
       "    </tr>\n",
       "  </thead>\n",
       "  <tbody>\n",
       "    <tr>\n",
       "      <th>22855</th>\n",
       "      <td>0</td>\n",
       "      <td>0</td>\n",
       "      <td>0</td>\n",
       "      <td>4685</td>\n",
       "      <td>0</td>\n",
       "      <td>276817786</td>\n",
       "      <td>0</td>\n",
       "      <td>1625.0</td>\n",
       "      <td>0.0</td>\n",
       "      <td>0.0</td>\n",
       "      <td>19</td>\n",
       "      <td>20</td>\n",
       "      <td>100</td>\n",
       "      <td>0.0</td>\n",
       "      <td>0.0</td>\n",
       "      <td>32.0</td>\n",
       "    </tr>\n",
       "  </tbody>\n",
       "</table>\n",
       "</div>"
      ],
      "text/plain": [
       "       Packets  Bytes  Packets_A-to-B(TX_pkts)  Bytes_A-to-B(TX_bytes)  \\\n",
       "22855        0      0                        0                    4685   \n",
       "\n",
       "       Packets_B-to-A(RX_pkts)  Bytes_B-to-A(RX_bytes)  \\\n",
       "22855                        0               276817786   \n",
       "\n",
       "       Bits/s A-to-B (TX_bits/s)  Bits/s B-to-A (RX_bits/s)  tot_kbps  \\\n",
       "22855                          0                     1625.0       0.0   \n",
       "\n",
       "       Pktrate  Flow Duration  Idle Timeout  Hard Timeout  Pktrate nsec  \\\n",
       "22855      0.0             19            20           100           0.0   \n",
       "\n",
       "       Byte nsec  flags  \n",
       "22855        0.0   32.0  "
      ]
     },
     "metadata": {},
     "output_type": "display_data"
    },
    {
     "name": "stdout",
     "output_type": "stream",
     "text": [
      " test value original : GoldenEye\n",
      " predicted value : Hulk\n"
     ]
    }
   ],
   "source": [
    "for idx in list(np.intersect1d(idx_pred_hulk[0], idx_original_goldeneye[0], assume_unique=True)[:3]):\n",
    "    display(X_test.iloc[[idx]])\n",
    "    print(f\" test value original : {get_key(CATEGORY_MAP, y_test.iloc[idx])}\")\n",
    "    print(f\" predicted value : {get_key(CATEGORY_MAP, y_pred_rf_best[idx])}\")"
   ]
  },
  {
   "cell_type": "code",
   "execution_count": 324,
   "id": "9de41f87",
   "metadata": {},
   "outputs": [
    {
     "name": "stdout",
     "output_type": "stream",
     "text": [
      "28.383903208837452\n",
      "4.908163841788285\n"
     ]
    }
   ],
   "source": [
    "df_plt = df_final[(df_final['CATEGORY'] == 'Hulk')|(df_final['CATEGORY'] == 'Slow Read')]\n",
    "print(np.mean(df_plt[df_plt['CATEGORY'] == 'Hulk']['flags']))\n",
    "print(np.std(df_plt[df_plt['CATEGORY'] == 'Hulk']['flags']))"
   ]
  },
  {
   "cell_type": "code",
   "execution_count": 325,
   "id": "65e2b4e7",
   "metadata": {},
   "outputs": [
    {
     "name": "stdout",
     "output_type": "stream",
     "text": [
      "32.63775023832221\n",
      "8.530008995921847\n"
     ]
    }
   ],
   "source": [
    "print(np.mean(df_plt[df_plt['CATEGORY'] == 'Slow Read']['flags']))\n",
    "print(np.std(df_plt[df_plt['CATEGORY'] == 'Slow Read']['flags']))"
   ]
  },
  {
   "cell_type": "code",
   "execution_count": 326,
   "id": "57ad8dfd",
   "metadata": {},
   "outputs": [
    {
     "name": "stdout",
     "output_type": "stream",
     "text": [
      "16.352456313880648\n",
      "10.123425973729773\n"
     ]
    }
   ],
   "source": [
    "print(np.mean(df_final[df_final['CATEGORY'] == 'Slow Post']['flags']))\n",
    "print(np.std(df_final[df_final['CATEGORY'] == 'Slow Post']['flags']))"
   ]
  },
  {
   "cell_type": "code",
   "execution_count": 328,
   "id": "c6ed9169",
   "metadata": {},
   "outputs": [
    {
     "name": "stdout",
     "output_type": "stream",
     "text": [
      "29.724871435250115\n",
      "7.331832484002219\n"
     ]
    }
   ],
   "source": [
    "print(np.mean(df_final[df_final['CATEGORY'] == 'GoldenEye']['flags']))\n",
    "print(np.std(df_final[df_final['CATEGORY'] == 'GoldenEye']['flags']))"
   ]
  },
  {
   "cell_type": "code",
   "execution_count": 334,
   "id": "e8f933e4",
   "metadata": {},
   "outputs": [
    {
     "name": "stdout",
     "output_type": "stream",
     "text": [
      "0.0\n",
      "0.0\n"
     ]
    }
   ],
   "source": [
    "print(np.mean(df_final[df_final['CATEGORY'] == 'Slow Read']['Packets_A-to-B(TX_pkts)']))\n",
    "print(np.std(df_final[df_final['CATEGORY'] == 'Slow Read']['Packets_A-to-B(TX_pkts)']))"
   ]
  },
  {
   "cell_type": "code",
   "execution_count": 332,
   "id": "ff0e7f97",
   "metadata": {},
   "outputs": [
    {
     "data": {
      "text/plain": [
       "9.032565232754934"
      ]
     },
     "execution_count": 332,
     "metadata": {},
     "output_type": "execute_result"
    }
   ],
   "source": [
    "df_final['Packets_A-to-B(TX_pkts)'].mean()"
   ]
  },
  {
   "cell_type": "code",
   "execution_count": 335,
   "id": "0a7409a0",
   "metadata": {},
   "outputs": [
    {
     "data": {
      "text/plain": [
       "Index(['Packets', 'Bytes', 'Packets_A-to-B(TX_pkts)', 'Bytes_A-to-B(TX_bytes)',\n",
       "       'Packets_B-to-A(RX_pkts)', 'Bytes_B-to-A(RX_bytes)',\n",
       "       'Bits/s A-to-B (TX_bits/s)', 'Bits/s B-to-A (RX_bits/s)', 'tot_kbps',\n",
       "       'Pktrate', 'Flow Duration', 'Idle Timeout', 'Hard Timeout',\n",
       "       'Pktrate nsec', 'Byte nsec', 'flags'],\n",
       "      dtype='object')"
      ]
     },
     "execution_count": 335,
     "metadata": {},
     "output_type": "execute_result"
    }
   ],
   "source": [
    "X_test.columns"
   ]
  },
  {
   "cell_type": "code",
   "execution_count": null,
   "id": "69524d29",
   "metadata": {},
   "outputs": [],
   "source": []
  },
  {
   "cell_type": "code",
   "execution_count": null,
   "id": "d372581b",
   "metadata": {},
   "outputs": [],
   "source": []
  },
  {
   "cell_type": "code",
   "execution_count": null,
   "id": "76c41ff1",
   "metadata": {},
   "outputs": [],
   "source": []
  },
  {
   "cell_type": "markdown",
   "id": "519e7771",
   "metadata": {},
   "source": [
    "## Rough Work"
   ]
  },
  {
   "cell_type": "code",
   "execution_count": 36,
   "id": "72563ad1",
   "metadata": {},
   "outputs": [],
   "source": [
    "X_train, X_test, y_train, y_test = train_test_split(X, y, random_state=42, test_size=0.3)\n",
    "\n",
    "# {'max_depth': 3,\n",
    "#  'max_leaf_nodes': 4,\n",
    "#  'min_samples_split': 2,\n",
    "#  'n_estimators': 200,\n",
    "#  'oob_score': True}\n",
    "\n",
    "rf_balanced = RandomForestClassifier(criterion='gini', \n",
    "                                     n_estimators=200,\n",
    "                                     min_samples_split=2,\n",
    "                                     #min_samples_leaf=1,\n",
    "                                     max_features='sqrt',\n",
    "                                     oob_score=True,\n",
    "                                     random_state=42,\n",
    "                                     max_leaf_nodes=4,\n",
    "                                     max_depth = 3,\n",
    "                                     class_weight=\"balanced\",\n",
    "                                     n_jobs=-1).fit(X_train, y_train)"
   ]
  },
  {
   "cell_type": "code",
   "execution_count": 37,
   "id": "c4ffa305",
   "metadata": {},
   "outputs": [
    {
     "name": "stdout",
     "output_type": "stream",
     "text": [
      "                precision    recall  f1-score   support\n",
      "\n",
      "Benign Traffic       1.00      1.00      1.00      6658\n",
      "     GoldenEye       0.25      0.12      0.17      1327\n",
      "          Hulk       0.61      0.82      0.70      2860\n",
      " Slow HTTP GET       1.00      1.00      1.00      3146\n",
      "     Slow Post       0.95      0.73      0.83      1792\n",
      "     Slow Read       0.31      0.43      0.36       348\n",
      "\n",
      "      accuracy                           0.85     16131\n",
      "     macro avg       0.69      0.68      0.68     16131\n",
      "  weighted avg       0.85      0.85      0.85     16131\n",
      "\n"
     ]
    }
   ],
   "source": [
    "y_pred_rf_balanced = rf_balanced.predict(X_test)\n",
    "print(classification_report(y_test, y_pred_rf_balanced))"
   ]
  },
  {
   "cell_type": "code",
   "execution_count": 38,
   "id": "078331e9",
   "metadata": {},
   "outputs": [],
   "source": [
    "X_train, X_test, y_train, y_test = train_test_split(X, y, random_state=42, test_size=0.3)\n",
    "\n",
    "# {'max_depth': 3,\n",
    "#  'max_leaf_nodes': 4,\n",
    "#  'min_samples_split': 2,\n",
    "#  'n_estimators': 200,\n",
    "#  'oob_score': True}\n",
    "\n",
    "rf_balanced_subsample = RandomForestClassifier(criterion='gini', \n",
    "                                     n_estimators=200,\n",
    "                                     min_samples_split=2,\n",
    "                                     #min_samples_leaf=1,\n",
    "                                     max_features='sqrt',\n",
    "                                     oob_score=True,\n",
    "                                     random_state=42,\n",
    "                                     max_leaf_nodes=4,\n",
    "                                     max_depth = 3,\n",
    "                                     class_weight=\"balanced_subsample\",\n",
    "                                     n_jobs=-1).fit(X_train, y_train)"
   ]
  },
  {
   "cell_type": "code",
   "execution_count": 39,
   "id": "972ba88e",
   "metadata": {},
   "outputs": [
    {
     "name": "stdout",
     "output_type": "stream",
     "text": [
      "                precision    recall  f1-score   support\n",
      "\n",
      "Benign Traffic       1.00      1.00      1.00      6658\n",
      "     GoldenEye       0.27      0.14      0.18      1327\n",
      "          Hulk       0.62      0.81      0.70      2860\n",
      " Slow HTTP GET       1.00      1.00      1.00      3146\n",
      "     Slow Post       0.95      0.73      0.83      1792\n",
      "     Slow Read       0.30      0.43      0.35       348\n",
      "\n",
      "      accuracy                           0.85     16131\n",
      "     macro avg       0.69      0.68      0.68     16131\n",
      "  weighted avg       0.85      0.85      0.85     16131\n",
      "\n"
     ]
    }
   ],
   "source": [
    "y_pred_rf_balanced_subsample = rf_balanced_subsample.predict(X_test)\n",
    "print(classification_report(y_test, y_pred_rf_balanced_subsample))"
   ]
  },
  {
   "cell_type": "code",
   "execution_count": 40,
   "id": "2080f8af",
   "metadata": {},
   "outputs": [],
   "source": [
    "from imblearn.ensemble import BalancedRandomForestClassifier"
   ]
  },
  {
   "cell_type": "code",
   "execution_count": 41,
   "id": "311c6902",
   "metadata": {},
   "outputs": [
    {
     "name": "stderr",
     "output_type": "stream",
     "text": [
      "Some inputs do not have OOB scores. This probably means too few trees were used to compute any reliable OOB estimates.\n"
     ]
    }
   ],
   "source": [
    "X_train, X_test, y_train, y_test = train_test_split(X, y, random_state=42, test_size=0.3)\n",
    "rf_imb = BalancedRandomForestClassifier(criterion='gini', \n",
    "                                     n_estimators=200,\n",
    "                                     min_samples_split=2,\n",
    "                                     #min_samples_leaf=1,\n",
    "                                     max_features='sqrt',\n",
    "                                     oob_score=True,\n",
    "                                     random_state=42,\n",
    "                                     max_leaf_nodes=4,\n",
    "                                     max_depth = 3,\n",
    "                                     #class_weight=\"balanced_subsample\",\n",
    "                                     n_jobs=-1).fit(X_train, y_train)"
   ]
  },
  {
   "cell_type": "code",
   "execution_count": 42,
   "id": "4cb5589f",
   "metadata": {},
   "outputs": [
    {
     "name": "stdout",
     "output_type": "stream",
     "text": [
      "                precision    recall  f1-score   support\n",
      "\n",
      "Benign Traffic       1.00      1.00      1.00      6658\n",
      "     GoldenEye       0.30      0.14      0.19      1327\n",
      "          Hulk       0.60      0.88      0.72      2860\n",
      " Slow HTTP GET       1.00      1.00      1.00      3146\n",
      "     Slow Post       0.95      0.73      0.83      1792\n",
      "     Slow Read       0.34      0.18      0.24       348\n",
      "\n",
      "      accuracy                           0.86     16131\n",
      "     macro avg       0.70      0.65      0.66     16131\n",
      "  weighted avg       0.85      0.86      0.85     16131\n",
      "\n"
     ]
    }
   ],
   "source": [
    "y_pred_rf_imb = rf_imb.predict(X_test)\n",
    "print(classification_report(y_test, y_pred_rf_imb))"
   ]
  },
  {
   "cell_type": "code",
   "execution_count": 43,
   "id": "37ca3bef",
   "metadata": {},
   "outputs": [
    {
     "name": "stderr",
     "output_type": "stream",
     "text": [
      "Some inputs do not have OOB scores. This probably means too few trees were used to compute any reliable OOB estimates.\n"
     ]
    }
   ],
   "source": [
    "X_train, X_test, y_train, y_test = train_test_split(X, y, random_state=42, test_size=0.3)\n",
    "rf_imb_balanced = BalancedRandomForestClassifier(criterion='gini', \n",
    "                                     n_estimators=200,\n",
    "                                     min_samples_split=2,\n",
    "                                     #min_samples_leaf=1,\n",
    "                                     max_features='sqrt',\n",
    "                                     oob_score=True,\n",
    "                                     random_state=42,\n",
    "                                     max_leaf_nodes=4,\n",
    "                                     max_depth = 3,\n",
    "                                     class_weight=\"balanced\",\n",
    "                                     n_jobs=-1).fit(X_train, y_train)"
   ]
  },
  {
   "cell_type": "code",
   "execution_count": 44,
   "id": "ac7ad08c",
   "metadata": {},
   "outputs": [
    {
     "name": "stderr",
     "output_type": "stream",
     "text": [
      "Precision and F-score are ill-defined and being set to 0.0 in labels with no predicted samples. Use `zero_division` parameter to control this behavior.\n",
      "Precision and F-score are ill-defined and being set to 0.0 in labels with no predicted samples. Use `zero_division` parameter to control this behavior.\n"
     ]
    },
    {
     "name": "stdout",
     "output_type": "stream",
     "text": [
      "                precision    recall  f1-score   support\n",
      "\n",
      "Benign Traffic       1.00      1.00      1.00      6658\n",
      "     GoldenEye       0.00      0.00      0.00      1327\n",
      "          Hulk       0.00      0.00      0.00      2860\n",
      " Slow HTTP GET       1.00      1.00      1.00      3146\n",
      "     Slow Post       0.00      0.00      0.00      1792\n",
      "     Slow Read       0.06      1.00      0.10       348\n",
      "\n",
      "      accuracy                           0.63     16131\n",
      "     macro avg       0.34      0.50      0.35     16131\n",
      "  weighted avg       0.61      0.63      0.61     16131\n",
      "\n"
     ]
    },
    {
     "name": "stderr",
     "output_type": "stream",
     "text": [
      "Precision and F-score are ill-defined and being set to 0.0 in labels with no predicted samples. Use `zero_division` parameter to control this behavior.\n"
     ]
    }
   ],
   "source": [
    "y_pred_rf_imb_balance = rf_imb_balanced.predict(X_test)\n",
    "print(classification_report(y_test, y_pred_rf_imb_balance))"
   ]
  },
  {
   "cell_type": "code",
   "execution_count": 45,
   "id": "5d064669",
   "metadata": {},
   "outputs": [
    {
     "name": "stderr",
     "output_type": "stream",
     "text": [
      "Some inputs do not have OOB scores. This probably means too few trees were used to compute any reliable OOB estimates.\n"
     ]
    }
   ],
   "source": [
    "X_train, X_test, y_train, y_test = train_test_split(X, y, random_state=42, test_size=0.3)\n",
    "rf_imb_balanced_subsample = BalancedRandomForestClassifier(criterion='gini', \n",
    "                                     n_estimators=200,\n",
    "                                     min_samples_split=2,\n",
    "                                     #min_samples_leaf=1,\n",
    "                                     max_features='sqrt',\n",
    "                                     oob_score=True,\n",
    "                                     random_state=42,\n",
    "                                     max_leaf_nodes=4,\n",
    "                                     max_depth = 3,\n",
    "                                     class_weight=\"balanced_subsample\",\n",
    "                                     n_jobs=-1).fit(X_train, y_train)"
   ]
  },
  {
   "cell_type": "code",
   "execution_count": 46,
   "id": "b08308ea",
   "metadata": {},
   "outputs": [
    {
     "name": "stdout",
     "output_type": "stream",
     "text": [
      "                precision    recall  f1-score   support\n",
      "\n",
      "Benign Traffic       1.00      1.00      1.00      6658\n",
      "     GoldenEye       0.26      0.28      0.27      1327\n",
      "          Hulk       0.59      0.69      0.63      2860\n",
      " Slow HTTP GET       1.00      1.00      1.00      3146\n",
      "     Slow Post       0.95      0.73      0.83      1792\n",
      "     Slow Read       0.30      0.18      0.22       348\n",
      "\n",
      "      accuracy                           0.84     16131\n",
      "     macro avg       0.68      0.64      0.66     16131\n",
      "  weighted avg       0.85      0.84      0.84     16131\n",
      "\n"
     ]
    }
   ],
   "source": [
    "y_pred_rf_imb_balance_subsample = rf_imb_balanced_subsample.predict(X_test)\n",
    "print(classification_report(y_test, y_pred_rf_imb_balance_subsample))"
   ]
  },
  {
   "cell_type": "code",
   "execution_count": 59,
   "id": "b33940d3",
   "metadata": {},
   "outputs": [
    {
     "name": "stderr",
     "output_type": "stream",
     "text": [
      "Some inputs do not have OOB scores. This probably means too few trees were used to compute any reliable OOB estimates.\n"
     ]
    }
   ],
   "source": [
    "# X_features, y_target\n",
    "X_train, X_test, y_train, y_test = train_test_split(X_features, y_target, random_state=42, test_size=0.2, stratify=y_target)\n",
    "rf_normal = BalancedRandomForestClassifier(criterion='gini', \n",
    "                                     n_estimators=500,\n",
    "                                     min_samples_split=2,\n",
    "                                     #min_samples_leaf=1,\n",
    "                                     max_features='sqrt',\n",
    "                                     oob_score=True,\n",
    "                                     class_weight=\"balanced\",\n",
    "                                     random_state=42,\n",
    "                                     n_jobs=-1).fit(X_train, y_train)"
   ]
  },
  {
   "cell_type": "code",
   "execution_count": 60,
   "id": "908d9317",
   "metadata": {},
   "outputs": [
    {
     "name": "stdout",
     "output_type": "stream",
     "text": [
      "                precision    recall  f1-score   support\n",
      "\n",
      "Benign Traffic       1.00      1.00      1.00      4462\n",
      " Slow HTTP GET       1.00      1.00      1.00      2112\n",
      "     Slow Read       0.24      0.52      0.33       210\n",
      "     Slow Post       0.95      0.73      0.82      1213\n",
      "     GoldenEye       0.74      0.91      0.82       856\n",
      "          Hulk       0.83      0.76      0.79      1901\n",
      "\n",
      "      accuracy                           0.91     10754\n",
      "     macro avg       0.79      0.82      0.79     10754\n",
      "  weighted avg       0.93      0.91      0.92     10754\n",
      "\n"
     ]
    }
   ],
   "source": [
    "y_pred_rf_normal = rf_normal.predict(X_test)\n",
    "print(classification_report(y_test, y_pred_rf_normal, target_names=list(CATEGORY_MAP.keys())))"
   ]
  },
  {
   "cell_type": "code",
   "execution_count": 61,
   "id": "86513e4c",
   "metadata": {},
   "outputs": [],
   "source": [
    "# explainer = shap.Explainer(rf_normal.predict, X_test)"
   ]
  },
  {
   "cell_type": "code",
   "execution_count": 63,
   "id": "92148aba",
   "metadata": {},
   "outputs": [],
   "source": [
    "# shap_values = explainer(X_test)"
   ]
  },
  {
   "cell_type": "code",
   "execution_count": 64,
   "id": "484f83b4",
   "metadata": {},
   "outputs": [],
   "source": [
    "# shap.plots.beeswarm(shap_values)"
   ]
  },
  {
   "cell_type": "code",
   "execution_count": 65,
   "id": "cbf00a53",
   "metadata": {},
   "outputs": [
    {
     "data": {
      "text/plain": [
       "array([0.01854319, 0.01697233, 0.11156283, 0.11714269, 0.01851199,\n",
       "       0.10384016, 0.04721899, 0.0525052 , 0.00844746, 0.00879161,\n",
       "       0.08121622, 0.        , 0.        , 0.00230779, 0.00709887,\n",
       "       0.40584066])"
      ]
     },
     "execution_count": 65,
     "metadata": {},
     "output_type": "execute_result"
    }
   ],
   "source": [
    "rf_normal.feature_importances_"
   ]
  },
  {
   "cell_type": "code",
   "execution_count": 66,
   "id": "f227ef6e",
   "metadata": {},
   "outputs": [
    {
     "data": {
      "text/plain": [
       "array(['Packets', 'Bytes', 'Packets_A-to-B(TX_pkts)',\n",
       "       'Bytes_A-to-B(TX_bytes)', 'Packets_B-to-A(RX_pkts)',\n",
       "       'Bytes_B-to-A(RX_bytes)', 'Bits/s A-to-B (TX_bits/s)',\n",
       "       'Bits/s B-to-A (RX_bits/s)', 'tot_kbps', 'Pktrate',\n",
       "       'Flow Duration', 'Idle Timeout', 'Hard Timeout', 'Pktrate nsec',\n",
       "       'Byte nsec', 'flags'], dtype=object)"
      ]
     },
     "execution_count": 66,
     "metadata": {},
     "output_type": "execute_result"
    }
   ],
   "source": [
    "rf_normal.feature_names_in_"
   ]
  },
  {
   "cell_type": "code",
   "execution_count": 67,
   "id": "cd09b75e",
   "metadata": {},
   "outputs": [
    {
     "data": {
      "text/plain": [
       "16"
      ]
     },
     "execution_count": 67,
     "metadata": {},
     "output_type": "execute_result"
    }
   ],
   "source": [
    "len(rf_normal.feature_importances_)"
   ]
  },
  {
   "cell_type": "code",
   "execution_count": 68,
   "id": "5c2e261d",
   "metadata": {},
   "outputs": [
    {
     "data": {
      "text/plain": [
       "16"
      ]
     },
     "execution_count": 68,
     "metadata": {},
     "output_type": "execute_result"
    }
   ],
   "source": [
    "len(rf_normal.feature_names_in_)"
   ]
  },
  {
   "cell_type": "code",
   "execution_count": 69,
   "id": "9eca4c9d",
   "metadata": {},
   "outputs": [
    {
     "data": {
      "text/plain": [
       "'Packets'"
      ]
     },
     "execution_count": 69,
     "metadata": {},
     "output_type": "execute_result"
    }
   ],
   "source": [
    "rf_normal.feature_names_in_[0]"
   ]
  },
  {
   "cell_type": "code",
   "execution_count": 71,
   "id": "a5a8da00",
   "metadata": {},
   "outputs": [
    {
     "data": {
      "text/plain": [
       "{'Packets': 0.018543193372446067,\n",
       " 'Bytes': 0.016972334707160926,\n",
       " 'Packets_A-to-B(TX_pkts)': 0.11156282778254126,\n",
       " 'Bytes_A-to-B(TX_bytes)': 0.11714269296076822,\n",
       " 'Packets_B-to-A(RX_pkts)': 0.018511993349352544,\n",
       " 'Bytes_B-to-A(RX_bytes)': 0.10384016047413076,\n",
       " 'Bits/s A-to-B (TX_bits/s)': 0.047218994514351305,\n",
       " 'Bits/s B-to-A (RX_bits/s)': 0.05250520363568713,\n",
       " 'tot_kbps': 0.008447457969888683,\n",
       " 'Pktrate': 0.008791606642747073,\n",
       " 'Flow Duration': 0.08121621644732568,\n",
       " 'Idle Timeout': 0.0,\n",
       " 'Hard Timeout': 0.0,\n",
       " 'Pktrate nsec': 0.0023077943484507138,\n",
       " 'Byte nsec': 0.007098868369647084,\n",
       " 'flags': 0.4058406554255025}"
      ]
     },
     "execution_count": 71,
     "metadata": {},
     "output_type": "execute_result"
    }
   ],
   "source": [
    "feature_imp_dict = {}\n",
    "for i in range(len(rf_normal.feature_importances_)):\n",
    "    feature_imp_dict[rf_normal.feature_names_in_[i]] = rf_normal.feature_importances_[i]\n",
    "    \n",
    "feature_imp_dict"
   ]
  },
  {
   "cell_type": "code",
   "execution_count": 74,
   "id": "05b86c5d",
   "metadata": {},
   "outputs": [],
   "source": [
    "# X_features, y_target\n",
    "X_train, X_test, y_train, y_test = train_test_split(X_oversample, y_oversample, random_state=42, test_size=0.2, stratify=y_oversample)\n",
    "rf_normal_bsub = BalancedRandomForestClassifier(criterion='gini', \n",
    "                                     n_estimators=500,\n",
    "                                     min_samples_split=2,\n",
    "                                     #min_samples_leaf=1,\n",
    "                                     max_features='sqrt',\n",
    "                                     oob_score=True,\n",
    "                                     class_weight=\"balanced_subsample\",\n",
    "                                     random_state=42,\n",
    "                                     n_jobs=-1).fit(X_train, y_train)"
   ]
  },
  {
   "cell_type": "code",
   "execution_count": 75,
   "id": "428741f2",
   "metadata": {},
   "outputs": [
    {
     "name": "stdout",
     "output_type": "stream",
     "text": [
      "                precision    recall  f1-score   support\n",
      "\n",
      "Benign Traffic       1.00      1.00      1.00      4462\n",
      " Slow HTTP GET       1.00      1.00      1.00      2112\n",
      "     Slow Read       0.68      0.76      0.72       800\n",
      "     Slow Post       0.90      0.75      0.82      1213\n",
      "     GoldenEye       0.72      0.91      0.80       856\n",
      "          Hulk       0.80      0.74      0.77      1901\n",
      "\n",
      "      accuracy                           0.91     11344\n",
      "     macro avg       0.85      0.86      0.85     11344\n",
      "  weighted avg       0.91      0.91      0.91     11344\n",
      "\n"
     ]
    }
   ],
   "source": [
    "y_pred_rf_normal_bsub = rf_normal_bsub.predict(X_test)\n",
    "print(classification_report(y_test, y_pred_rf_normal_bsub, target_names=list(CATEGORY_MAP.keys())))"
   ]
  },
  {
   "cell_type": "code",
   "execution_count": 337,
   "id": "1de070ec",
   "metadata": {},
   "outputs": [],
   "source": [
    "df_final.to_csv('Final_dataset_combined.csv', index=False)"
   ]
  },
  {
   "cell_type": "code",
   "execution_count": null,
   "id": "3f37fd8c",
   "metadata": {},
   "outputs": [],
   "source": []
  }
 ],
 "metadata": {
  "kernelspec": {
   "display_name": "Python 3 (ipykernel)",
   "language": "python",
   "name": "python3"
  },
  "language_info": {
   "codemirror_mode": {
    "name": "ipython",
    "version": 3
   },
   "file_extension": ".py",
   "mimetype": "text/x-python",
   "name": "python",
   "nbconvert_exporter": "python",
   "pygments_lexer": "ipython3",
   "version": "3.10.9"
  }
 },
 "nbformat": 4,
 "nbformat_minor": 5
}
