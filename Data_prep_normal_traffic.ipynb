{
 "cells": [
  {
   "cell_type": "code",
   "execution_count": 1,
   "id": "e3784cbb",
   "metadata": {},
   "outputs": [],
   "source": [
    "import pandas as pd"
   ]
  },
  {
   "cell_type": "markdown",
   "id": "db320118",
   "metadata": {},
   "source": [
    "### Load Conversations File"
   ]
  },
  {
   "cell_type": "code",
   "execution_count": 37,
   "id": "3c003895",
   "metadata": {},
   "outputs": [],
   "source": [
    "full_conversation_cols = [\"Address-A\", \"Port-A\", \"Address-B\", \"Port-B\", \"Packets\", \"Bytes\", \"StreamID\", \"TotalPackets\", \n",
    "                          \"PerctageFiltered\", \"Packets_A-to-B(TX_pkts)\", \"Bytes_A-to-B(TX_bytes)\", \"Packets_B-to-A(RX_pkts)\",\n",
    "                          \"Bytes_B-to-A(RX_bytes)\", \"Relative_Start\", \"Duration\", \"Bits/s A-to-B (TX_bits/s)\",\n",
    "                          \"Bits/s B-to-A (RX_bits/s)\"]\n",
    "\n",
    "FLAG_DICT = {\"Not set\":0, \"Set\":1}"
   ]
  },
  {
   "cell_type": "code",
   "execution_count": 38,
   "id": "f9750f63",
   "metadata": {},
   "outputs": [],
   "source": [
    "df_normal_conv = pd.read_csv('Normal_Conversation_list.csv')"
   ]
  },
  {
   "cell_type": "code",
   "execution_count": 39,
   "id": "5da2f97b",
   "metadata": {},
   "outputs": [
    {
     "data": {
      "text/html": [
       "<div>\n",
       "<style scoped>\n",
       "    .dataframe tbody tr th:only-of-type {\n",
       "        vertical-align: middle;\n",
       "    }\n",
       "\n",
       "    .dataframe tbody tr th {\n",
       "        vertical-align: top;\n",
       "    }\n",
       "\n",
       "    .dataframe thead th {\n",
       "        text-align: right;\n",
       "    }\n",
       "</style>\n",
       "<table border=\"1\" class=\"dataframe\">\n",
       "  <thead>\n",
       "    <tr style=\"text-align: right;\">\n",
       "      <th></th>\n",
       "      <th>Address-A</th>\n",
       "      <th>Port-A</th>\n",
       "      <th>Address-B</th>\n",
       "      <th>Port-B</th>\n",
       "      <th>Packets</th>\n",
       "      <th>Bytes</th>\n",
       "      <th>StreamID</th>\n",
       "      <th>TotalPackets</th>\n",
       "      <th>PerctageFiltered</th>\n",
       "      <th>Packets_A-to-B(TX_pkts)</th>\n",
       "      <th>...</th>\n",
       "      <th>Duration</th>\n",
       "      <th>Bits/s A-to-B (TX_bits/s)</th>\n",
       "      <th>Bits/s B-to-A (RX_bits/s)</th>\n",
       "      <th>tot_kbps</th>\n",
       "      <th>Pktrate</th>\n",
       "      <th>Pktrate nsec</th>\n",
       "      <th>Byte nsec</th>\n",
       "      <th>Flow Duration</th>\n",
       "      <th>Idle Timeout</th>\n",
       "      <th>Hard Timeout</th>\n",
       "    </tr>\n",
       "  </thead>\n",
       "  <tbody>\n",
       "    <tr>\n",
       "      <th>0</th>\n",
       "      <td>96.43.146.176</td>\n",
       "      <td>443</td>\n",
       "      <td>172.16.133.82</td>\n",
       "      <td>61228</td>\n",
       "      <td>1454</td>\n",
       "      <td>97766</td>\n",
       "      <td>0</td>\n",
       "      <td>0</td>\n",
       "      <td>0</td>\n",
       "      <td>67</td>\n",
       "      <td>...</td>\n",
       "      <td>170</td>\n",
       "      <td>246</td>\n",
       "      <td>265.0</td>\n",
       "      <td>7.520462</td>\n",
       "      <td>111.846154</td>\n",
       "      <td>2.005517e-06</td>\n",
       "      <td>0.000135</td>\n",
       "      <td>13</td>\n",
       "      <td>20</td>\n",
       "      <td>100</td>\n",
       "    </tr>\n",
       "    <tr>\n",
       "      <th>1</th>\n",
       "      <td>96.43.146.176</td>\n",
       "      <td>443</td>\n",
       "      <td>172.16.133.82</td>\n",
       "      <td>60073</td>\n",
       "      <td>4</td>\n",
       "      <td>380</td>\n",
       "      <td>1</td>\n",
       "      <td>0</td>\n",
       "      <td>0</td>\n",
       "      <td>55</td>\n",
       "      <td>...</td>\n",
       "      <td>253</td>\n",
       "      <td>0</td>\n",
       "      <td>2601.0</td>\n",
       "      <td>0.190000</td>\n",
       "      <td>2.000000</td>\n",
       "      <td>1.970443e-08</td>\n",
       "      <td>0.000002</td>\n",
       "      <td>2</td>\n",
       "      <td>20</td>\n",
       "      <td>100</td>\n",
       "    </tr>\n",
       "    <tr>\n",
       "      <th>2</th>\n",
       "      <td>172.16.133.103</td>\n",
       "      <td>63406</td>\n",
       "      <td>216.115.222.200</td>\n",
       "      <td>443</td>\n",
       "      <td>1273</td>\n",
       "      <td>84648</td>\n",
       "      <td>2</td>\n",
       "      <td>0</td>\n",
       "      <td>0</td>\n",
       "      <td>4</td>\n",
       "      <td>...</td>\n",
       "      <td>246</td>\n",
       "      <td>4324</td>\n",
       "      <td>454.0</td>\n",
       "      <td>8.464800</td>\n",
       "      <td>127.300000</td>\n",
       "      <td>7.622754e-06</td>\n",
       "      <td>0.000507</td>\n",
       "      <td>10</td>\n",
       "      <td>20</td>\n",
       "      <td>100</td>\n",
       "    </tr>\n",
       "    <tr>\n",
       "      <th>3</th>\n",
       "      <td>172.16.133.43</td>\n",
       "      <td>57700</td>\n",
       "      <td>172.16.139.250</td>\n",
       "      <td>5440</td>\n",
       "      <td>1794</td>\n",
       "      <td>120054</td>\n",
       "      <td>3</td>\n",
       "      <td>0</td>\n",
       "      <td>0</td>\n",
       "      <td>8</td>\n",
       "      <td>...</td>\n",
       "      <td>130</td>\n",
       "      <td>0</td>\n",
       "      <td>12818.0</td>\n",
       "      <td>6.318632</td>\n",
       "      <td>94.421053</td>\n",
       "      <td>4.671875e-06</td>\n",
       "      <td>0.000313</td>\n",
       "      <td>19</td>\n",
       "      <td>20</td>\n",
       "      <td>100</td>\n",
       "    </tr>\n",
       "    <tr>\n",
       "      <th>4</th>\n",
       "      <td>172.16.133.53</td>\n",
       "      <td>49292</td>\n",
       "      <td>172.16.139.250</td>\n",
       "      <td>5500</td>\n",
       "      <td>150384</td>\n",
       "      <td>9925344</td>\n",
       "      <td>4</td>\n",
       "      <td>0</td>\n",
       "      <td>0</td>\n",
       "      <td>20</td>\n",
       "      <td>...</td>\n",
       "      <td>242</td>\n",
       "      <td>0</td>\n",
       "      <td>0.0</td>\n",
       "      <td>381.744000</td>\n",
       "      <td>5784.000000</td>\n",
       "      <td>7.595152e-04</td>\n",
       "      <td>0.050128</td>\n",
       "      <td>26</td>\n",
       "      <td>20</td>\n",
       "      <td>100</td>\n",
       "    </tr>\n",
       "  </tbody>\n",
       "</table>\n",
       "<p>5 rows × 24 columns</p>\n",
       "</div>"
      ],
      "text/plain": [
       "        Address-A  Port-A        Address-B  Port-B  Packets    Bytes  \\\n",
       "0   96.43.146.176     443    172.16.133.82   61228     1454    97766   \n",
       "1   96.43.146.176     443    172.16.133.82   60073        4      380   \n",
       "2  172.16.133.103   63406  216.115.222.200     443     1273    84648   \n",
       "3   172.16.133.43   57700   172.16.139.250    5440     1794   120054   \n",
       "4   172.16.133.53   49292   172.16.139.250    5500   150384  9925344   \n",
       "\n",
       "   StreamID  TotalPackets  PerctageFiltered  Packets_A-to-B(TX_pkts)  ...  \\\n",
       "0         0             0                 0                       67  ...   \n",
       "1         1             0                 0                       55  ...   \n",
       "2         2             0                 0                        4  ...   \n",
       "3         3             0                 0                        8  ...   \n",
       "4         4             0                 0                       20  ...   \n",
       "\n",
       "   Duration  Bits/s A-to-B (TX_bits/s)  Bits/s B-to-A (RX_bits/s)    tot_kbps  \\\n",
       "0       170                        246                      265.0    7.520462   \n",
       "1       253                          0                     2601.0    0.190000   \n",
       "2       246                       4324                      454.0    8.464800   \n",
       "3       130                          0                    12818.0    6.318632   \n",
       "4       242                          0                        0.0  381.744000   \n",
       "\n",
       "       Pktrate  Pktrate nsec  Byte nsec  Flow Duration  Idle Timeout  \\\n",
       "0   111.846154  2.005517e-06   0.000135             13            20   \n",
       "1     2.000000  1.970443e-08   0.000002              2            20   \n",
       "2   127.300000  7.622754e-06   0.000507             10            20   \n",
       "3    94.421053  4.671875e-06   0.000313             19            20   \n",
       "4  5784.000000  7.595152e-04   0.050128             26            20   \n",
       "\n",
       "   Hard Timeout  \n",
       "0           100  \n",
       "1           100  \n",
       "2           100  \n",
       "3           100  \n",
       "4           100  \n",
       "\n",
       "[5 rows x 24 columns]"
      ]
     },
     "execution_count": 39,
     "metadata": {},
     "output_type": "execute_result"
    }
   ],
   "source": [
    "df_normal_conv.head()"
   ]
  },
  {
   "cell_type": "code",
   "execution_count": 40,
   "id": "d2f1b194",
   "metadata": {},
   "outputs": [],
   "source": [
    "# df_normal_conv.isna().sum()\n",
    "df_normal_conv['Bits/s A-to-B (TX_bits/s)'].fillna(0, inplace=True)\n",
    "df_normal_conv['Bits/s B-to-A (RX_bits/s)'].fillna(0, inplace=True)"
   ]
  },
  {
   "cell_type": "markdown",
   "id": "3c27aaef",
   "metadata": {},
   "source": [
    "### Load Packets File"
   ]
  },
  {
   "cell_type": "code",
   "execution_count": 41,
   "id": "eb6b82b8",
   "metadata": {},
   "outputs": [],
   "source": [
    "df_packets = pd.read_csv('Normal_Traffic/normal_traffic_individual_packets.csv')"
   ]
  },
  {
   "cell_type": "code",
   "execution_count": 42,
   "id": "1388dc0a",
   "metadata": {},
   "outputs": [],
   "source": [
    "df_packets['Bytes In Flight'] = df_packets['Bytes In Flight'].fillna(0)"
   ]
  },
  {
   "cell_type": "code",
   "execution_count": 43,
   "id": "782e713a",
   "metadata": {},
   "outputs": [],
   "source": [
    "df_packets['Push'] = df_packets['Push'].map(FLAG_DICT)\n",
    "df_packets['Syn'] = df_packets['Syn'].map(FLAG_DICT)\n",
    "df_packets['Acknowledgment'] = df_packets['Acknowledgment'].map(FLAG_DICT)\n",
    "df_packets['Fin'] = df_packets['Fin'].map(FLAG_DICT)\n",
    "df_packets['Reset'] = df_packets['Reset'].map(FLAG_DICT)"
   ]
  },
  {
   "cell_type": "code",
   "execution_count": 44,
   "id": "50aba9a7",
   "metadata": {},
   "outputs": [
    {
     "data": {
      "text/html": [
       "<div>\n",
       "<style scoped>\n",
       "    .dataframe tbody tr th:only-of-type {\n",
       "        vertical-align: middle;\n",
       "    }\n",
       "\n",
       "    .dataframe tbody tr th {\n",
       "        vertical-align: top;\n",
       "    }\n",
       "\n",
       "    .dataframe thead th {\n",
       "        text-align: right;\n",
       "    }\n",
       "</style>\n",
       "<table border=\"1\" class=\"dataframe\">\n",
       "  <thead>\n",
       "    <tr style=\"text-align: right;\">\n",
       "      <th></th>\n",
       "      <th>No.</th>\n",
       "      <th>Time</th>\n",
       "      <th>Delta</th>\n",
       "      <th>Source</th>\n",
       "      <th>Destination</th>\n",
       "      <th>Protocol</th>\n",
       "      <th>Stream index</th>\n",
       "      <th>Length</th>\n",
       "      <th>TCP Segment Len</th>\n",
       "      <th>Source Port</th>\n",
       "      <th>Header Length</th>\n",
       "      <th>Bytes In Flight</th>\n",
       "      <th>Push</th>\n",
       "      <th>Syn</th>\n",
       "      <th>Acknowledgment</th>\n",
       "      <th>Fin</th>\n",
       "      <th>Reset</th>\n",
       "      <th>Info</th>\n",
       "    </tr>\n",
       "  </thead>\n",
       "  <tbody>\n",
       "    <tr>\n",
       "      <th>0</th>\n",
       "      <td>4</td>\n",
       "      <td>0.000322</td>\n",
       "      <td>0.000000</td>\n",
       "      <td>96.43.146.176</td>\n",
       "      <td>172.16.133.82</td>\n",
       "      <td>TCP</td>\n",
       "      <td>0</td>\n",
       "      <td>60</td>\n",
       "      <td>0.0</td>\n",
       "      <td>443</td>\n",
       "      <td>20</td>\n",
       "      <td>0.0</td>\n",
       "      <td>0.0</td>\n",
       "      <td>0.0</td>\n",
       "      <td>1.0</td>\n",
       "      <td>0.0</td>\n",
       "      <td>0.0</td>\n",
       "      <td>443  &gt;  61228 [ACK] Seq=1 Ack=1 Win=9659 Len=0</td>\n",
       "    </tr>\n",
       "    <tr>\n",
       "      <th>1</th>\n",
       "      <td>7</td>\n",
       "      <td>0.001307</td>\n",
       "      <td>0.000985</td>\n",
       "      <td>96.43.146.176</td>\n",
       "      <td>172.16.133.82</td>\n",
       "      <td>TCP</td>\n",
       "      <td>0</td>\n",
       "      <td>60</td>\n",
       "      <td>0.0</td>\n",
       "      <td>443</td>\n",
       "      <td>20</td>\n",
       "      <td>0.0</td>\n",
       "      <td>0.0</td>\n",
       "      <td>0.0</td>\n",
       "      <td>1.0</td>\n",
       "      <td>0.0</td>\n",
       "      <td>0.0</td>\n",
       "      <td>443  &gt;  61228 [ACK] Seq=1 Ack=1107 Win=10765 L...</td>\n",
       "    </tr>\n",
       "    <tr>\n",
       "      <th>2</th>\n",
       "      <td>8</td>\n",
       "      <td>0.005263</td>\n",
       "      <td>0.003956</td>\n",
       "      <td>96.43.146.176</td>\n",
       "      <td>172.16.133.82</td>\n",
       "      <td>TCP</td>\n",
       "      <td>1</td>\n",
       "      <td>60</td>\n",
       "      <td>0.0</td>\n",
       "      <td>443</td>\n",
       "      <td>20</td>\n",
       "      <td>0.0</td>\n",
       "      <td>0.0</td>\n",
       "      <td>0.0</td>\n",
       "      <td>1.0</td>\n",
       "      <td>0.0</td>\n",
       "      <td>0.0</td>\n",
       "      <td>443  &gt;  60073 [ACK] Seq=1 Ack=1 Win=65535 Len=0</td>\n",
       "    </tr>\n",
       "    <tr>\n",
       "      <th>3</th>\n",
       "      <td>10</td>\n",
       "      <td>0.006739</td>\n",
       "      <td>0.001476</td>\n",
       "      <td>172.16.133.103</td>\n",
       "      <td>216.115.222.200</td>\n",
       "      <td>TCP</td>\n",
       "      <td>2</td>\n",
       "      <td>66</td>\n",
       "      <td>0.0</td>\n",
       "      <td>63406</td>\n",
       "      <td>32</td>\n",
       "      <td>0.0</td>\n",
       "      <td>0.0</td>\n",
       "      <td>1.0</td>\n",
       "      <td>0.0</td>\n",
       "      <td>0.0</td>\n",
       "      <td>0.0</td>\n",
       "      <td>63406  &gt;  443 [SYN] Seq=0 Win=8192 Len=0 MSS=1...</td>\n",
       "    </tr>\n",
       "    <tr>\n",
       "      <th>4</th>\n",
       "      <td>11</td>\n",
       "      <td>0.008991</td>\n",
       "      <td>0.002252</td>\n",
       "      <td>172.16.133.43</td>\n",
       "      <td>172.16.139.250</td>\n",
       "      <td>HTTP</td>\n",
       "      <td>3</td>\n",
       "      <td>265</td>\n",
       "      <td>211.0</td>\n",
       "      <td>57700</td>\n",
       "      <td>20</td>\n",
       "      <td>211.0</td>\n",
       "      <td>1.0</td>\n",
       "      <td>0.0</td>\n",
       "      <td>1.0</td>\n",
       "      <td>0.0</td>\n",
       "      <td>0.0</td>\n",
       "      <td>GET /CSIS/CSISISAPI.dll/?request?aaeb6985-26fc...</td>\n",
       "    </tr>\n",
       "  </tbody>\n",
       "</table>\n",
       "</div>"
      ],
      "text/plain": [
       "   No.      Time     Delta          Source      Destination Protocol  \\\n",
       "0    4  0.000322  0.000000   96.43.146.176    172.16.133.82      TCP   \n",
       "1    7  0.001307  0.000985   96.43.146.176    172.16.133.82      TCP   \n",
       "2    8  0.005263  0.003956   96.43.146.176    172.16.133.82      TCP   \n",
       "3   10  0.006739  0.001476  172.16.133.103  216.115.222.200      TCP   \n",
       "4   11  0.008991  0.002252   172.16.133.43   172.16.139.250     HTTP   \n",
       "\n",
       "  Stream index  Length  TCP Segment Len Source Port Header Length  \\\n",
       "0            0      60              0.0         443            20   \n",
       "1            0      60              0.0         443            20   \n",
       "2            1      60              0.0         443            20   \n",
       "3            2      66              0.0       63406            32   \n",
       "4            3     265            211.0       57700            20   \n",
       "\n",
       "   Bytes In Flight  Push  Syn  Acknowledgment  Fin  Reset  \\\n",
       "0              0.0   0.0  0.0             1.0  0.0    0.0   \n",
       "1              0.0   0.0  0.0             1.0  0.0    0.0   \n",
       "2              0.0   0.0  0.0             1.0  0.0    0.0   \n",
       "3              0.0   0.0  1.0             0.0  0.0    0.0   \n",
       "4            211.0   1.0  0.0             1.0  0.0    0.0   \n",
       "\n",
       "                                                Info  \n",
       "0     443  >  61228 [ACK] Seq=1 Ack=1 Win=9659 Len=0  \n",
       "1  443  >  61228 [ACK] Seq=1 Ack=1107 Win=10765 L...  \n",
       "2    443  >  60073 [ACK] Seq=1 Ack=1 Win=65535 Len=0  \n",
       "3  63406  >  443 [SYN] Seq=0 Win=8192 Len=0 MSS=1...  \n",
       "4  GET /CSIS/CSISISAPI.dll/?request?aaeb6985-26fc...  "
      ]
     },
     "execution_count": 44,
     "metadata": {},
     "output_type": "execute_result"
    }
   ],
   "source": [
    "df_packets.head()"
   ]
  },
  {
   "cell_type": "markdown",
   "id": "aebc09e5",
   "metadata": {},
   "source": [
    "### Merge"
   ]
  },
  {
   "cell_type": "code",
   "execution_count": 45,
   "id": "7bc050cc",
   "metadata": {},
   "outputs": [
    {
     "data": {
      "text/plain": [
       "array(['TCP', 'HTTP', 'TLSv1', 'VNC', 'SSL', 'sFlow', 'SSH', 'TLSv1.1',\n",
       "       'RDP', 'T.125', 'RTMP', 'SSLv3', 'HTTP/XML', 'DCERPC',\n",
       "       'IOXIDResolver', 'MPEG TS', 'HTTP/JSON', 'MSNMS', 'SSHv2', 'MP4',\n",
       "       'XMPP/XML', 'YMSG', 'SSLv2', 'WebSocket', 'FTP', 'IRC', 'OCSP',\n",
       "       'ICMP', 'NBSS', 'SMB', 'LANMAN', 'RPC_BROWSER', 'FRSTRANS',\n",
       "       'DRSUAPI', 'EPM', 'POP', 'POP/IMF'], dtype=object)"
      ]
     },
     "execution_count": 45,
     "metadata": {},
     "output_type": "execute_result"
    }
   ],
   "source": [
    "df_packets['Protocol'].unique()"
   ]
  },
  {
   "cell_type": "code",
   "execution_count": 46,
   "id": "f7226c6a",
   "metadata": {},
   "outputs": [],
   "source": [
    "# df_flag_packet_count = df_packets[['Stream index', 'Syn', 'Acknowledgment', 'Fin', 'Reset']].groupby('Stream index').sum()"
   ]
  },
  {
   "cell_type": "code",
   "execution_count": 47,
   "id": "fe35d325",
   "metadata": {},
   "outputs": [
    {
     "data": {
      "text/plain": [
       "635017"
      ]
     },
     "execution_count": 47,
     "metadata": {},
     "output_type": "execute_result"
    }
   ],
   "source": [
    "# df_conversation = df_normal_conv.merge(df_flag_packet_count, left_on='StreamID', right_index=True)\n",
    "len(df_packets['Stream index'])"
   ]
  },
  {
   "cell_type": "code",
   "execution_count": 48,
   "id": "9e8b9365",
   "metadata": {},
   "outputs": [
    {
     "data": {
      "text/plain": [
       "23411"
      ]
     },
     "execution_count": 48,
     "metadata": {},
     "output_type": "execute_result"
    }
   ],
   "source": [
    "len(df_packets['Stream index'].unique())"
   ]
  },
  {
   "cell_type": "code",
   "execution_count": 49,
   "id": "77591415",
   "metadata": {},
   "outputs": [
    {
     "data": {
      "text/plain": [
       "22312"
      ]
     },
     "execution_count": 49,
     "metadata": {},
     "output_type": "execute_result"
    }
   ],
   "source": [
    "len(df_normal_conv)"
   ]
  },
  {
   "cell_type": "code",
   "execution_count": 50,
   "id": "94ea3c55",
   "metadata": {},
   "outputs": [
    {
     "data": {
      "text/plain": [
       "1111"
      ]
     },
     "execution_count": 50,
     "metadata": {},
     "output_type": "execute_result"
    }
   ],
   "source": [
    "len(df_packets[df_packets['Protocol'] == 'sFlow'])"
   ]
  },
  {
   "cell_type": "code",
   "execution_count": 51,
   "id": "cc320c0d",
   "metadata": {},
   "outputs": [
    {
     "data": {
      "text/plain": [
       "22300"
      ]
     },
     "execution_count": 51,
     "metadata": {},
     "output_type": "execute_result"
    }
   ],
   "source": [
    "23411 - 1111"
   ]
  },
  {
   "cell_type": "code",
   "execution_count": 52,
   "id": "d0fd66ef",
   "metadata": {},
   "outputs": [
    {
     "data": {
      "text/plain": [
       "1111"
      ]
     },
     "execution_count": 52,
     "metadata": {},
     "output_type": "execute_result"
    }
   ],
   "source": [
    "len(df_packets[df_packets['Protocol'] == 'sFlow']['Stream index'].str.contains(','))"
   ]
  },
  {
   "cell_type": "code",
   "execution_count": 53,
   "id": "a7116e6c",
   "metadata": {},
   "outputs": [
    {
     "data": {
      "text/plain": [
       "11"
      ]
     },
     "execution_count": 53,
     "metadata": {},
     "output_type": "execute_result"
    }
   ],
   "source": [
    "len(df_packets[(df_packets['Protocol'] == 'sFlow') & ~df_packets['Stream index'].str.contains(',')])"
   ]
  },
  {
   "cell_type": "code",
   "execution_count": 54,
   "id": "5cd425cc",
   "metadata": {},
   "outputs": [
    {
     "data": {
      "text/plain": [
       "1100"
      ]
     },
     "execution_count": 54,
     "metadata": {},
     "output_type": "execute_result"
    }
   ],
   "source": [
    "# df_packets[(df_packets['Protocol'] == 'sFlow') & ~df_packets['Stream index'].str.contains(',')]\n",
    "len(df_packets[(df_packets['Protocol'] == 'sFlow') & df_packets['Stream index'].str.contains(',')])"
   ]
  },
  {
   "cell_type": "code",
   "execution_count": 55,
   "id": "ae8c10e4",
   "metadata": {},
   "outputs": [
    {
     "data": {
      "text/plain": [
       "22311"
      ]
     },
     "execution_count": 55,
     "metadata": {},
     "output_type": "execute_result"
    }
   ],
   "source": [
    "23411 - 1100"
   ]
  },
  {
   "cell_type": "code",
   "execution_count": 56,
   "id": "e4fcf01f",
   "metadata": {},
   "outputs": [
    {
     "data": {
      "text/plain": [
       "1100"
      ]
     },
     "execution_count": 56,
     "metadata": {},
     "output_type": "execute_result"
    }
   ],
   "source": [
    "len(df_packets[df_packets['Stream index'].str.contains(',')])"
   ]
  },
  {
   "cell_type": "code",
   "execution_count": 57,
   "id": "a5ae6f85",
   "metadata": {},
   "outputs": [],
   "source": [
    "df_packets_sflow_filter = df_packets[~df_packets['Stream index'].str.contains(',')]"
   ]
  },
  {
   "cell_type": "code",
   "execution_count": 58,
   "id": "3bb5720d",
   "metadata": {},
   "outputs": [],
   "source": [
    "df_flag_packet_count = df_packets_sflow_filter[['Stream index', 'Syn', 'Acknowledgment', 'Fin', 'Reset', 'Push']].groupby('Stream index').sum()"
   ]
  },
  {
   "cell_type": "code",
   "execution_count": 59,
   "id": "e4c00abd",
   "metadata": {},
   "outputs": [],
   "source": [
    "# df_flag_packet_count.head()\n",
    "df_flag_packet_count.index = df_flag_packet_count.index.astype('float')"
   ]
  },
  {
   "cell_type": "code",
   "execution_count": 60,
   "id": "4d83535c",
   "metadata": {},
   "outputs": [],
   "source": [
    "df_conversation = df_normal_conv.merge(df_flag_packet_count, left_on='StreamID', right_index=True)"
   ]
  },
  {
   "cell_type": "code",
   "execution_count": 61,
   "id": "4942f792",
   "metadata": {},
   "outputs": [
    {
     "data": {
      "text/plain": [
       "22312"
      ]
     },
     "execution_count": 61,
     "metadata": {},
     "output_type": "execute_result"
    }
   ],
   "source": [
    "len(df_conversation)"
   ]
  },
  {
   "cell_type": "code",
   "execution_count": 62,
   "id": "087b915e",
   "metadata": {},
   "outputs": [
    {
     "name": "stdout",
     "output_type": "stream",
     "text": [
      "<class 'pandas.core.frame.DataFrame'>\n",
      "Int64Index: 633917 entries, 0 to 635016\n",
      "Data columns (total 5 columns):\n",
      " #   Column           Non-Null Count   Dtype  \n",
      "---  ------           --------------   -----  \n",
      " 0   Stream index     633917 non-null  object \n",
      " 1   Length           633917 non-null  int64  \n",
      " 2   TCP Segment Len  633894 non-null  float64\n",
      " 3   Header Length    633917 non-null  object \n",
      " 4   Bytes In Flight  633917 non-null  float64\n",
      "dtypes: float64(2), int64(1), object(2)\n",
      "memory usage: 29.0+ MB\n"
     ]
    }
   ],
   "source": [
    "df_packets_sflow_filter[['Stream index', 'Length', 'TCP Segment Len', 'Header Length', 'Bytes In Flight']].info()"
   ]
  },
  {
   "cell_type": "code",
   "execution_count": 63,
   "id": "0a1c3e9a",
   "metadata": {},
   "outputs": [
    {
     "name": "stderr",
     "output_type": "stream",
     "text": [
      "C:\\Users\\jalaj\\AppData\\Local\\Temp\\ipykernel_39888\\1995480287.py:1: SettingWithCopyWarning: \n",
      "A value is trying to be set on a copy of a slice from a DataFrame.\n",
      "Try using .loc[row_indexer,col_indexer] = value instead\n",
      "\n",
      "See the caveats in the documentation: https://pandas.pydata.org/pandas-docs/stable/user_guide/indexing.html#returning-a-view-versus-a-copy\n",
      "  df_packets_sflow_filter['Stream index'] = df_packets_sflow_filter['Stream index'].astype('int')\n",
      "C:\\Users\\jalaj\\AppData\\Local\\Temp\\ipykernel_39888\\1995480287.py:2: SettingWithCopyWarning: \n",
      "A value is trying to be set on a copy of a slice from a DataFrame.\n",
      "Try using .loc[row_indexer,col_indexer] = value instead\n",
      "\n",
      "See the caveats in the documentation: https://pandas.pydata.org/pandas-docs/stable/user_guide/indexing.html#returning-a-view-versus-a-copy\n",
      "  df_packets_sflow_filter['Header Length'] = df_packets_sflow_filter['Header Length'].astype('int')\n"
     ]
    }
   ],
   "source": [
    "df_packets_sflow_filter['Stream index'] = df_packets_sflow_filter['Stream index'].astype('int')\n",
    "df_packets_sflow_filter['Header Length'] = df_packets_sflow_filter['Header Length'].astype('int')"
   ]
  },
  {
   "cell_type": "code",
   "execution_count": 64,
   "id": "ba3b4712",
   "metadata": {},
   "outputs": [],
   "source": [
    "df_attr_len_mean = df_packets_sflow_filter[['Stream index', 'Length', 'TCP Segment Len', 'Header Length', 'Bytes In Flight']].groupby('Stream index').mean()"
   ]
  },
  {
   "cell_type": "code",
   "execution_count": 65,
   "id": "b28d2472",
   "metadata": {},
   "outputs": [],
   "source": [
    "df_conversation = df_conversation.merge(df_attr_len_mean, left_on='StreamID', right_index=True)"
   ]
  },
  {
   "cell_type": "code",
   "execution_count": 66,
   "id": "367cf135",
   "metadata": {},
   "outputs": [
    {
     "data": {
      "text/html": [
       "<div>\n",
       "<style scoped>\n",
       "    .dataframe tbody tr th:only-of-type {\n",
       "        vertical-align: middle;\n",
       "    }\n",
       "\n",
       "    .dataframe tbody tr th {\n",
       "        vertical-align: top;\n",
       "    }\n",
       "\n",
       "    .dataframe thead th {\n",
       "        text-align: right;\n",
       "    }\n",
       "</style>\n",
       "<table border=\"1\" class=\"dataframe\">\n",
       "  <thead>\n",
       "    <tr style=\"text-align: right;\">\n",
       "      <th></th>\n",
       "      <th>Address-A</th>\n",
       "      <th>Port-A</th>\n",
       "      <th>Address-B</th>\n",
       "      <th>Port-B</th>\n",
       "      <th>Packets</th>\n",
       "      <th>Bytes</th>\n",
       "      <th>StreamID</th>\n",
       "      <th>TotalPackets</th>\n",
       "      <th>PerctageFiltered</th>\n",
       "      <th>Packets_A-to-B(TX_pkts)</th>\n",
       "      <th>...</th>\n",
       "      <th>Hard Timeout</th>\n",
       "      <th>Syn</th>\n",
       "      <th>Acknowledgment</th>\n",
       "      <th>Fin</th>\n",
       "      <th>Reset</th>\n",
       "      <th>Push</th>\n",
       "      <th>Length</th>\n",
       "      <th>TCP Segment Len</th>\n",
       "      <th>Header Length</th>\n",
       "      <th>Bytes In Flight</th>\n",
       "    </tr>\n",
       "  </thead>\n",
       "  <tbody>\n",
       "    <tr>\n",
       "      <th>0</th>\n",
       "      <td>96.43.146.176</td>\n",
       "      <td>443</td>\n",
       "      <td>172.16.133.82</td>\n",
       "      <td>61228</td>\n",
       "      <td>1454</td>\n",
       "      <td>97766</td>\n",
       "      <td>0</td>\n",
       "      <td>0</td>\n",
       "      <td>0</td>\n",
       "      <td>67</td>\n",
       "      <td>...</td>\n",
       "      <td>100</td>\n",
       "      <td>0.0</td>\n",
       "      <td>113.0</td>\n",
       "      <td>0.0</td>\n",
       "      <td>0.0</td>\n",
       "      <td>33.0</td>\n",
       "      <td>766.761062</td>\n",
       "      <td>710.681416</td>\n",
       "      <td>20.000000</td>\n",
       "      <td>1929.946903</td>\n",
       "    </tr>\n",
       "    <tr>\n",
       "      <th>1</th>\n",
       "      <td>96.43.146.176</td>\n",
       "      <td>443</td>\n",
       "      <td>172.16.133.82</td>\n",
       "      <td>60073</td>\n",
       "      <td>4</td>\n",
       "      <td>380</td>\n",
       "      <td>1</td>\n",
       "      <td>0</td>\n",
       "      <td>0</td>\n",
       "      <td>55</td>\n",
       "      <td>...</td>\n",
       "      <td>100</td>\n",
       "      <td>0.0</td>\n",
       "      <td>102.0</td>\n",
       "      <td>0.0</td>\n",
       "      <td>0.0</td>\n",
       "      <td>36.0</td>\n",
       "      <td>742.382353</td>\n",
       "      <td>686.372549</td>\n",
       "      <td>20.000000</td>\n",
       "      <td>2168.274510</td>\n",
       "    </tr>\n",
       "    <tr>\n",
       "      <th>2</th>\n",
       "      <td>172.16.133.103</td>\n",
       "      <td>63406</td>\n",
       "      <td>216.115.222.200</td>\n",
       "      <td>443</td>\n",
       "      <td>1273</td>\n",
       "      <td>84648</td>\n",
       "      <td>2</td>\n",
       "      <td>0</td>\n",
       "      <td>0</td>\n",
       "      <td>4</td>\n",
       "      <td>...</td>\n",
       "      <td>100</td>\n",
       "      <td>2.0</td>\n",
       "      <td>5.0</td>\n",
       "      <td>2.0</td>\n",
       "      <td>0.0</td>\n",
       "      <td>0.0</td>\n",
       "      <td>61.000000</td>\n",
       "      <td>0.000000</td>\n",
       "      <td>22.666667</td>\n",
       "      <td>0.000000</td>\n",
       "    </tr>\n",
       "    <tr>\n",
       "      <th>3</th>\n",
       "      <td>172.16.133.43</td>\n",
       "      <td>57700</td>\n",
       "      <td>172.16.139.250</td>\n",
       "      <td>5440</td>\n",
       "      <td>1794</td>\n",
       "      <td>120054</td>\n",
       "      <td>3</td>\n",
       "      <td>0</td>\n",
       "      <td>0</td>\n",
       "      <td>8</td>\n",
       "      <td>...</td>\n",
       "      <td>100</td>\n",
       "      <td>0.0</td>\n",
       "      <td>8.0</td>\n",
       "      <td>2.0</td>\n",
       "      <td>0.0</td>\n",
       "      <td>2.0</td>\n",
       "      <td>111.250000</td>\n",
       "      <td>52.750000</td>\n",
       "      <td>20.000000</td>\n",
       "      <td>52.750000</td>\n",
       "    </tr>\n",
       "    <tr>\n",
       "      <th>4</th>\n",
       "      <td>172.16.133.53</td>\n",
       "      <td>49292</td>\n",
       "      <td>172.16.139.250</td>\n",
       "      <td>5500</td>\n",
       "      <td>150384</td>\n",
       "      <td>9925344</td>\n",
       "      <td>4</td>\n",
       "      <td>0</td>\n",
       "      <td>0</td>\n",
       "      <td>20</td>\n",
       "      <td>...</td>\n",
       "      <td>100</td>\n",
       "      <td>0.0</td>\n",
       "      <td>20.0</td>\n",
       "      <td>0.0</td>\n",
       "      <td>0.0</td>\n",
       "      <td>10.0</td>\n",
       "      <td>87.000000</td>\n",
       "      <td>30.000000</td>\n",
       "      <td>20.000000</td>\n",
       "      <td>90.000000</td>\n",
       "    </tr>\n",
       "  </tbody>\n",
       "</table>\n",
       "<p>5 rows × 33 columns</p>\n",
       "</div>"
      ],
      "text/plain": [
       "        Address-A  Port-A        Address-B  Port-B  Packets    Bytes  \\\n",
       "0   96.43.146.176     443    172.16.133.82   61228     1454    97766   \n",
       "1   96.43.146.176     443    172.16.133.82   60073        4      380   \n",
       "2  172.16.133.103   63406  216.115.222.200     443     1273    84648   \n",
       "3   172.16.133.43   57700   172.16.139.250    5440     1794   120054   \n",
       "4   172.16.133.53   49292   172.16.139.250    5500   150384  9925344   \n",
       "\n",
       "   StreamID  TotalPackets  PerctageFiltered  Packets_A-to-B(TX_pkts)  ...  \\\n",
       "0         0             0                 0                       67  ...   \n",
       "1         1             0                 0                       55  ...   \n",
       "2         2             0                 0                        4  ...   \n",
       "3         3             0                 0                        8  ...   \n",
       "4         4             0                 0                       20  ...   \n",
       "\n",
       "   Hard Timeout  Syn  Acknowledgment  Fin  Reset  Push      Length  \\\n",
       "0           100  0.0           113.0  0.0    0.0  33.0  766.761062   \n",
       "1           100  0.0           102.0  0.0    0.0  36.0  742.382353   \n",
       "2           100  2.0             5.0  2.0    0.0   0.0   61.000000   \n",
       "3           100  0.0             8.0  2.0    0.0   2.0  111.250000   \n",
       "4           100  0.0            20.0  0.0    0.0  10.0   87.000000   \n",
       "\n",
       "   TCP Segment Len  Header Length  Bytes In Flight  \n",
       "0       710.681416      20.000000      1929.946903  \n",
       "1       686.372549      20.000000      2168.274510  \n",
       "2         0.000000      22.666667         0.000000  \n",
       "3        52.750000      20.000000        52.750000  \n",
       "4        30.000000      20.000000        90.000000  \n",
       "\n",
       "[5 rows x 33 columns]"
      ]
     },
     "execution_count": 66,
     "metadata": {},
     "output_type": "execute_result"
    }
   ],
   "source": [
    "df_conversation.head()"
   ]
  },
  {
   "cell_type": "code",
   "execution_count": 67,
   "id": "b2295525",
   "metadata": {},
   "outputs": [
    {
     "data": {
      "text/plain": [
       "Address-A                    0\n",
       "Port-A                       0\n",
       "Address-B                    0\n",
       "Port-B                       0\n",
       "Packets                      0\n",
       "Bytes                        0\n",
       "StreamID                     0\n",
       "TotalPackets                 0\n",
       "PerctageFiltered             0\n",
       "Packets_A-to-B(TX_pkts)      0\n",
       "Bytes_A-to-B(TX_bytes)       0\n",
       "Packets_B-to-A(RX_pkts)      0\n",
       "Bytes_B-to-A(RX_bytes)       0\n",
       "Relative_Start               0\n",
       "Duration                     0\n",
       "Bits/s A-to-B (TX_bits/s)    0\n",
       "Bits/s B-to-A (RX_bits/s)    0\n",
       "tot_kbps                     0\n",
       "Pktrate                      0\n",
       "Pktrate nsec                 0\n",
       "Byte nsec                    0\n",
       "Flow Duration                0\n",
       "Idle Timeout                 0\n",
       "Hard Timeout                 0\n",
       "Syn                          0\n",
       "Acknowledgment               0\n",
       "Fin                          0\n",
       "Reset                        0\n",
       "Push                         0\n",
       "Length                       0\n",
       "TCP Segment Len              0\n",
       "Header Length                0\n",
       "Bytes In Flight              0\n",
       "dtype: int64"
      ]
     },
     "execution_count": 67,
     "metadata": {},
     "output_type": "execute_result"
    }
   ],
   "source": [
    "df_conversation.isna().sum()"
   ]
  },
  {
   "cell_type": "code",
   "execution_count": 68,
   "id": "e3e4c24c",
   "metadata": {},
   "outputs": [
    {
     "data": {
      "text/plain": [
       "22312"
      ]
     },
     "execution_count": 68,
     "metadata": {},
     "output_type": "execute_result"
    }
   ],
   "source": [
    "len(df_conversation)"
   ]
  },
  {
   "cell_type": "code",
   "execution_count": 69,
   "id": "99c57d59",
   "metadata": {},
   "outputs": [
    {
     "data": {
      "text/html": [
       "<div>\n",
       "<style scoped>\n",
       "    .dataframe tbody tr th:only-of-type {\n",
       "        vertical-align: middle;\n",
       "    }\n",
       "\n",
       "    .dataframe tbody tr th {\n",
       "        vertical-align: top;\n",
       "    }\n",
       "\n",
       "    .dataframe thead th {\n",
       "        text-align: right;\n",
       "    }\n",
       "</style>\n",
       "<table border=\"1\" class=\"dataframe\">\n",
       "  <thead>\n",
       "    <tr style=\"text-align: right;\">\n",
       "      <th></th>\n",
       "      <th>Address-A</th>\n",
       "      <th>Port-A</th>\n",
       "      <th>Address-B</th>\n",
       "      <th>Port-B</th>\n",
       "      <th>Packets</th>\n",
       "      <th>Bytes</th>\n",
       "      <th>StreamID</th>\n",
       "      <th>TotalPackets</th>\n",
       "      <th>PerctageFiltered</th>\n",
       "      <th>Packets_A-to-B(TX_pkts)</th>\n",
       "      <th>...</th>\n",
       "      <th>Hard Timeout</th>\n",
       "      <th>Syn</th>\n",
       "      <th>Acknowledgment</th>\n",
       "      <th>Fin</th>\n",
       "      <th>Reset</th>\n",
       "      <th>Push</th>\n",
       "      <th>Length</th>\n",
       "      <th>TCP Segment Len</th>\n",
       "      <th>Header Length</th>\n",
       "      <th>Bytes In Flight</th>\n",
       "    </tr>\n",
       "  </thead>\n",
       "  <tbody>\n",
       "    <tr>\n",
       "      <th>0</th>\n",
       "      <td>96.43.146.176</td>\n",
       "      <td>443</td>\n",
       "      <td>172.16.133.82</td>\n",
       "      <td>61228</td>\n",
       "      <td>1454</td>\n",
       "      <td>97766</td>\n",
       "      <td>0</td>\n",
       "      <td>0</td>\n",
       "      <td>0</td>\n",
       "      <td>67</td>\n",
       "      <td>...</td>\n",
       "      <td>100</td>\n",
       "      <td>0.0</td>\n",
       "      <td>113.0</td>\n",
       "      <td>0.0</td>\n",
       "      <td>0.0</td>\n",
       "      <td>33.0</td>\n",
       "      <td>766.761062</td>\n",
       "      <td>710.681416</td>\n",
       "      <td>20.000000</td>\n",
       "      <td>1929.946903</td>\n",
       "    </tr>\n",
       "    <tr>\n",
       "      <th>1</th>\n",
       "      <td>96.43.146.176</td>\n",
       "      <td>443</td>\n",
       "      <td>172.16.133.82</td>\n",
       "      <td>60073</td>\n",
       "      <td>4</td>\n",
       "      <td>380</td>\n",
       "      <td>1</td>\n",
       "      <td>0</td>\n",
       "      <td>0</td>\n",
       "      <td>55</td>\n",
       "      <td>...</td>\n",
       "      <td>100</td>\n",
       "      <td>0.0</td>\n",
       "      <td>102.0</td>\n",
       "      <td>0.0</td>\n",
       "      <td>0.0</td>\n",
       "      <td>36.0</td>\n",
       "      <td>742.382353</td>\n",
       "      <td>686.372549</td>\n",
       "      <td>20.000000</td>\n",
       "      <td>2168.274510</td>\n",
       "    </tr>\n",
       "    <tr>\n",
       "      <th>2</th>\n",
       "      <td>172.16.133.103</td>\n",
       "      <td>63406</td>\n",
       "      <td>216.115.222.200</td>\n",
       "      <td>443</td>\n",
       "      <td>1273</td>\n",
       "      <td>84648</td>\n",
       "      <td>2</td>\n",
       "      <td>0</td>\n",
       "      <td>0</td>\n",
       "      <td>4</td>\n",
       "      <td>...</td>\n",
       "      <td>100</td>\n",
       "      <td>2.0</td>\n",
       "      <td>5.0</td>\n",
       "      <td>2.0</td>\n",
       "      <td>0.0</td>\n",
       "      <td>0.0</td>\n",
       "      <td>61.000000</td>\n",
       "      <td>0.000000</td>\n",
       "      <td>22.666667</td>\n",
       "      <td>0.000000</td>\n",
       "    </tr>\n",
       "    <tr>\n",
       "      <th>3</th>\n",
       "      <td>172.16.133.43</td>\n",
       "      <td>57700</td>\n",
       "      <td>172.16.139.250</td>\n",
       "      <td>5440</td>\n",
       "      <td>1794</td>\n",
       "      <td>120054</td>\n",
       "      <td>3</td>\n",
       "      <td>0</td>\n",
       "      <td>0</td>\n",
       "      <td>8</td>\n",
       "      <td>...</td>\n",
       "      <td>100</td>\n",
       "      <td>0.0</td>\n",
       "      <td>8.0</td>\n",
       "      <td>2.0</td>\n",
       "      <td>0.0</td>\n",
       "      <td>2.0</td>\n",
       "      <td>111.250000</td>\n",
       "      <td>52.750000</td>\n",
       "      <td>20.000000</td>\n",
       "      <td>52.750000</td>\n",
       "    </tr>\n",
       "    <tr>\n",
       "      <th>4</th>\n",
       "      <td>172.16.133.53</td>\n",
       "      <td>49292</td>\n",
       "      <td>172.16.139.250</td>\n",
       "      <td>5500</td>\n",
       "      <td>150384</td>\n",
       "      <td>9925344</td>\n",
       "      <td>4</td>\n",
       "      <td>0</td>\n",
       "      <td>0</td>\n",
       "      <td>20</td>\n",
       "      <td>...</td>\n",
       "      <td>100</td>\n",
       "      <td>0.0</td>\n",
       "      <td>20.0</td>\n",
       "      <td>0.0</td>\n",
       "      <td>0.0</td>\n",
       "      <td>10.0</td>\n",
       "      <td>87.000000</td>\n",
       "      <td>30.000000</td>\n",
       "      <td>20.000000</td>\n",
       "      <td>90.000000</td>\n",
       "    </tr>\n",
       "  </tbody>\n",
       "</table>\n",
       "<p>5 rows × 33 columns</p>\n",
       "</div>"
      ],
      "text/plain": [
       "        Address-A  Port-A        Address-B  Port-B  Packets    Bytes  \\\n",
       "0   96.43.146.176     443    172.16.133.82   61228     1454    97766   \n",
       "1   96.43.146.176     443    172.16.133.82   60073        4      380   \n",
       "2  172.16.133.103   63406  216.115.222.200     443     1273    84648   \n",
       "3   172.16.133.43   57700   172.16.139.250    5440     1794   120054   \n",
       "4   172.16.133.53   49292   172.16.139.250    5500   150384  9925344   \n",
       "\n",
       "   StreamID  TotalPackets  PerctageFiltered  Packets_A-to-B(TX_pkts)  ...  \\\n",
       "0         0             0                 0                       67  ...   \n",
       "1         1             0                 0                       55  ...   \n",
       "2         2             0                 0                        4  ...   \n",
       "3         3             0                 0                        8  ...   \n",
       "4         4             0                 0                       20  ...   \n",
       "\n",
       "   Hard Timeout  Syn  Acknowledgment  Fin  Reset  Push      Length  \\\n",
       "0           100  0.0           113.0  0.0    0.0  33.0  766.761062   \n",
       "1           100  0.0           102.0  0.0    0.0  36.0  742.382353   \n",
       "2           100  2.0             5.0  2.0    0.0   0.0   61.000000   \n",
       "3           100  0.0             8.0  2.0    0.0   2.0  111.250000   \n",
       "4           100  0.0            20.0  0.0    0.0  10.0   87.000000   \n",
       "\n",
       "   TCP Segment Len  Header Length  Bytes In Flight  \n",
       "0       710.681416      20.000000      1929.946903  \n",
       "1       686.372549      20.000000      2168.274510  \n",
       "2         0.000000      22.666667         0.000000  \n",
       "3        52.750000      20.000000        52.750000  \n",
       "4        30.000000      20.000000        90.000000  \n",
       "\n",
       "[5 rows x 33 columns]"
      ]
     },
     "execution_count": 69,
     "metadata": {},
     "output_type": "execute_result"
    }
   ],
   "source": [
    "df_conversation.head()"
   ]
  },
  {
   "cell_type": "code",
   "execution_count": 70,
   "id": "2e84318a",
   "metadata": {},
   "outputs": [],
   "source": [
    "df_conversation[\"CATEGORY\"] = \"Benign Traffic\""
   ]
  },
  {
   "cell_type": "code",
   "execution_count": 71,
   "id": "d2bfcd92",
   "metadata": {},
   "outputs": [],
   "source": [
    "df_conversation['flags'] = df_conversation[['Syn', 'Acknowledgment', 'Fin', 'Reset', 'Push']].sum(axis=1)"
   ]
  },
  {
   "cell_type": "code",
   "execution_count": 72,
   "id": "f122f153",
   "metadata": {},
   "outputs": [
    {
     "data": {
      "text/html": [
       "<div>\n",
       "<style scoped>\n",
       "    .dataframe tbody tr th:only-of-type {\n",
       "        vertical-align: middle;\n",
       "    }\n",
       "\n",
       "    .dataframe tbody tr th {\n",
       "        vertical-align: top;\n",
       "    }\n",
       "\n",
       "    .dataframe thead th {\n",
       "        text-align: right;\n",
       "    }\n",
       "</style>\n",
       "<table border=\"1\" class=\"dataframe\">\n",
       "  <thead>\n",
       "    <tr style=\"text-align: right;\">\n",
       "      <th></th>\n",
       "      <th>Address-A</th>\n",
       "      <th>Port-A</th>\n",
       "      <th>Address-B</th>\n",
       "      <th>Port-B</th>\n",
       "      <th>Packets</th>\n",
       "      <th>Bytes</th>\n",
       "      <th>StreamID</th>\n",
       "      <th>TotalPackets</th>\n",
       "      <th>PerctageFiltered</th>\n",
       "      <th>Packets_A-to-B(TX_pkts)</th>\n",
       "      <th>...</th>\n",
       "      <th>Acknowledgment</th>\n",
       "      <th>Fin</th>\n",
       "      <th>Reset</th>\n",
       "      <th>Push</th>\n",
       "      <th>Length</th>\n",
       "      <th>TCP Segment Len</th>\n",
       "      <th>Header Length</th>\n",
       "      <th>Bytes In Flight</th>\n",
       "      <th>CATEGORY</th>\n",
       "      <th>flags</th>\n",
       "    </tr>\n",
       "  </thead>\n",
       "  <tbody>\n",
       "    <tr>\n",
       "      <th>0</th>\n",
       "      <td>96.43.146.176</td>\n",
       "      <td>443</td>\n",
       "      <td>172.16.133.82</td>\n",
       "      <td>61228</td>\n",
       "      <td>1454</td>\n",
       "      <td>97766</td>\n",
       "      <td>0</td>\n",
       "      <td>0</td>\n",
       "      <td>0</td>\n",
       "      <td>67</td>\n",
       "      <td>...</td>\n",
       "      <td>113.0</td>\n",
       "      <td>0.0</td>\n",
       "      <td>0.0</td>\n",
       "      <td>33.0</td>\n",
       "      <td>766.761062</td>\n",
       "      <td>710.681416</td>\n",
       "      <td>20.000000</td>\n",
       "      <td>1929.946903</td>\n",
       "      <td>Benign Traffic</td>\n",
       "      <td>146.0</td>\n",
       "    </tr>\n",
       "    <tr>\n",
       "      <th>1</th>\n",
       "      <td>96.43.146.176</td>\n",
       "      <td>443</td>\n",
       "      <td>172.16.133.82</td>\n",
       "      <td>60073</td>\n",
       "      <td>4</td>\n",
       "      <td>380</td>\n",
       "      <td>1</td>\n",
       "      <td>0</td>\n",
       "      <td>0</td>\n",
       "      <td>55</td>\n",
       "      <td>...</td>\n",
       "      <td>102.0</td>\n",
       "      <td>0.0</td>\n",
       "      <td>0.0</td>\n",
       "      <td>36.0</td>\n",
       "      <td>742.382353</td>\n",
       "      <td>686.372549</td>\n",
       "      <td>20.000000</td>\n",
       "      <td>2168.274510</td>\n",
       "      <td>Benign Traffic</td>\n",
       "      <td>138.0</td>\n",
       "    </tr>\n",
       "    <tr>\n",
       "      <th>2</th>\n",
       "      <td>172.16.133.103</td>\n",
       "      <td>63406</td>\n",
       "      <td>216.115.222.200</td>\n",
       "      <td>443</td>\n",
       "      <td>1273</td>\n",
       "      <td>84648</td>\n",
       "      <td>2</td>\n",
       "      <td>0</td>\n",
       "      <td>0</td>\n",
       "      <td>4</td>\n",
       "      <td>...</td>\n",
       "      <td>5.0</td>\n",
       "      <td>2.0</td>\n",
       "      <td>0.0</td>\n",
       "      <td>0.0</td>\n",
       "      <td>61.000000</td>\n",
       "      <td>0.000000</td>\n",
       "      <td>22.666667</td>\n",
       "      <td>0.000000</td>\n",
       "      <td>Benign Traffic</td>\n",
       "      <td>9.0</td>\n",
       "    </tr>\n",
       "    <tr>\n",
       "      <th>3</th>\n",
       "      <td>172.16.133.43</td>\n",
       "      <td>57700</td>\n",
       "      <td>172.16.139.250</td>\n",
       "      <td>5440</td>\n",
       "      <td>1794</td>\n",
       "      <td>120054</td>\n",
       "      <td>3</td>\n",
       "      <td>0</td>\n",
       "      <td>0</td>\n",
       "      <td>8</td>\n",
       "      <td>...</td>\n",
       "      <td>8.0</td>\n",
       "      <td>2.0</td>\n",
       "      <td>0.0</td>\n",
       "      <td>2.0</td>\n",
       "      <td>111.250000</td>\n",
       "      <td>52.750000</td>\n",
       "      <td>20.000000</td>\n",
       "      <td>52.750000</td>\n",
       "      <td>Benign Traffic</td>\n",
       "      <td>12.0</td>\n",
       "    </tr>\n",
       "    <tr>\n",
       "      <th>4</th>\n",
       "      <td>172.16.133.53</td>\n",
       "      <td>49292</td>\n",
       "      <td>172.16.139.250</td>\n",
       "      <td>5500</td>\n",
       "      <td>150384</td>\n",
       "      <td>9925344</td>\n",
       "      <td>4</td>\n",
       "      <td>0</td>\n",
       "      <td>0</td>\n",
       "      <td>20</td>\n",
       "      <td>...</td>\n",
       "      <td>20.0</td>\n",
       "      <td>0.0</td>\n",
       "      <td>0.0</td>\n",
       "      <td>10.0</td>\n",
       "      <td>87.000000</td>\n",
       "      <td>30.000000</td>\n",
       "      <td>20.000000</td>\n",
       "      <td>90.000000</td>\n",
       "      <td>Benign Traffic</td>\n",
       "      <td>30.0</td>\n",
       "    </tr>\n",
       "  </tbody>\n",
       "</table>\n",
       "<p>5 rows × 35 columns</p>\n",
       "</div>"
      ],
      "text/plain": [
       "        Address-A  Port-A        Address-B  Port-B  Packets    Bytes  \\\n",
       "0   96.43.146.176     443    172.16.133.82   61228     1454    97766   \n",
       "1   96.43.146.176     443    172.16.133.82   60073        4      380   \n",
       "2  172.16.133.103   63406  216.115.222.200     443     1273    84648   \n",
       "3   172.16.133.43   57700   172.16.139.250    5440     1794   120054   \n",
       "4   172.16.133.53   49292   172.16.139.250    5500   150384  9925344   \n",
       "\n",
       "   StreamID  TotalPackets  PerctageFiltered  Packets_A-to-B(TX_pkts)  ...  \\\n",
       "0         0             0                 0                       67  ...   \n",
       "1         1             0                 0                       55  ...   \n",
       "2         2             0                 0                        4  ...   \n",
       "3         3             0                 0                        8  ...   \n",
       "4         4             0                 0                       20  ...   \n",
       "\n",
       "   Acknowledgment  Fin  Reset  Push      Length  TCP Segment Len  \\\n",
       "0           113.0  0.0    0.0  33.0  766.761062       710.681416   \n",
       "1           102.0  0.0    0.0  36.0  742.382353       686.372549   \n",
       "2             5.0  2.0    0.0   0.0   61.000000         0.000000   \n",
       "3             8.0  2.0    0.0   2.0  111.250000        52.750000   \n",
       "4            20.0  0.0    0.0  10.0   87.000000        30.000000   \n",
       "\n",
       "   Header Length  Bytes In Flight        CATEGORY  flags  \n",
       "0      20.000000      1929.946903  Benign Traffic  146.0  \n",
       "1      20.000000      2168.274510  Benign Traffic  138.0  \n",
       "2      22.666667         0.000000  Benign Traffic    9.0  \n",
       "3      20.000000        52.750000  Benign Traffic   12.0  \n",
       "4      20.000000        90.000000  Benign Traffic   30.0  \n",
       "\n",
       "[5 rows x 35 columns]"
      ]
     },
     "execution_count": 72,
     "metadata": {},
     "output_type": "execute_result"
    }
   ],
   "source": [
    "df_conversation.head()"
   ]
  },
  {
   "cell_type": "code",
   "execution_count": 73,
   "id": "b613d305",
   "metadata": {},
   "outputs": [],
   "source": [
    "df_conversation.to_csv('Normal_Traffic/normal_traffic_model_ready.csv', index=False)"
   ]
  },
  {
   "cell_type": "code",
   "execution_count": null,
   "id": "07e444d9",
   "metadata": {},
   "outputs": [],
   "source": []
  }
 ],
 "metadata": {
  "kernelspec": {
   "display_name": "Python 3 (ipykernel)",
   "language": "python",
   "name": "python3"
  },
  "language_info": {
   "codemirror_mode": {
    "name": "ipython",
    "version": 3
   },
   "file_extension": ".py",
   "mimetype": "text/x-python",
   "name": "python",
   "nbconvert_exporter": "python",
   "pygments_lexer": "ipython3",
   "version": "3.10.9"
  }
 },
 "nbformat": 4,
 "nbformat_minor": 5
}
